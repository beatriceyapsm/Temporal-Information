{
  "nbformat": 4,
  "nbformat_minor": 0,
  "metadata": {
    "colab": {
      "provenance": [],
      "authorship_tag": "ABX9TyMnFO8Gx+iMYQYcMC4HKMoW",
      "include_colab_link": true
    },
    "kernelspec": {
      "name": "python3",
      "display_name": "Python 3"
    },
    "language_info": {
      "name": "python"
    }
  },
  "cells": [
    {
      "cell_type": "markdown",
      "metadata": {
        "id": "view-in-github",
        "colab_type": "text"
      },
      "source": [
        "<a href=\"https://colab.research.google.com/github/beatriceyapsm/temporaltest/blob/main/SurveyTemporalinfo.ipynb\" target=\"_parent\"><img src=\"https://colab.research.google.com/assets/colab-badge.svg\" alt=\"Open In Colab\"/></a>"
      ]
    },
    {
      "cell_type": "code",
      "execution_count": null,
      "metadata": {
        "id": "67pXm3Dj3fGC"
      },
      "outputs": [],
      "source": []
    },
    {
      "cell_type": "markdown",
      "source": [
        "##Temporal Information Extraction\n",
        "Temporal information can be represented as {T, E, R}, where T denotes the temporal points, durations or intervals, E means the events, and R represents the temporal relation. \n",
        "Three main approaches to the task of temporal information extraction: rule-based, datadriven, and hybrid.\n",
        "Tempeval-1, Tempeval-2 and Tempeval-3 are all exercises in temporal information extraction. \n",
        "\n",
        "TimeML is a set of rules for encoding documents electronically.\n",
        "- EVENT tag is used to annotate those elements in a text that mark the semantic events \n",
        "- TIMEX3 tag is primarily used to mark up explicit temporal expressions, such as times, dates, durations, etc. \n",
        "- MAKEINSTANCE tag: for when a new instance should be created as an event occurs on multiple days (eg. He taught last Wednesday and today.)\n",
        "\n",
        "Best f1-score for timex3: rule-based system Heideltime\n",
        "Best f1-score for event & makeinstance: ATT-1 Using Max Entropy"
      ],
      "metadata": {
        "id": "aA4a-21738xN"
      }
    }
  ]
}