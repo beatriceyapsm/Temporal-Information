{
  "nbformat": 4,
  "nbformat_minor": 0,
  "metadata": {
    "colab": {
      "provenance": [],
      "authorship_tag": "ABX9TyO+XhuyaLSsrJ+EPOwJLBwI",
      "include_colab_link": true
    },
    "kernelspec": {
      "name": "python3",
      "display_name": "Python 3"
    },
    "language_info": {
      "name": "python"
    },
    "accelerator": "GPU"
  },
  "cells": [
    {
      "cell_type": "markdown",
      "metadata": {
        "id": "view-in-github",
        "colab_type": "text"
      },
      "source": [
        "<a href=\"https://colab.research.google.com/github/beatriceyapsm/temporaltest/blob/main/SurveyTemporalinfo.ipynb\" target=\"_parent\"><img src=\"https://colab.research.google.com/assets/colab-badge.svg\" alt=\"Open In Colab\"/></a>"
      ]
    },
    {
      "cell_type": "markdown",
      "source": [
        "##Temporal Information Extraction\n",
        "Temporal information can be represented as {T, E, R}, where T denotes the temporal points, durations or intervals, E means the events, and R represents the temporal relation. \n",
        "Three main approaches to the task of temporal information extraction: rule-based, datadriven, and hybrid.\n",
        "Tempeval-1, Tempeval-2 and Tempeval-3 are all exercises in temporal information extraction. \n",
        "\n",
        "TimeML is a set of rules for encoding documents electronically.\n",
        "- EVENT tag is used to annotate those elements in a text that mark the semantic events \n",
        "- TIMEX3 tag is primarily used to mark up explicit temporal expressions, such as times, dates, durations, etc. \n",
        "- MAKEINSTANCE tag: for when a new instance should be created as an event occurs on multiple days (eg. He taught last Wednesday and today.)\n",
        "- TLINK or Temporal Link represents the temporal relationship holding\n",
        "between events, times, or between an event and a time.\n",
        "\n",
        "Best f1-score for timex3: rule-based system Heideltime\n",
        "Best f1-score for event & makeinstance: ATT-1 Using Max Entropy\n",
        "\n",
        "Publicly available dataset, namely TimeBank.\n",
        "\n",
        "In [51], a method for extracting temporal relations between two\n",
        "events was proposed. It had two stages: (1) a machine-learning model for classifying event attributes (i.e., tense, aspect, modality, polarity, and event class), and (2) a machine-learning model for classifying the\n",
        "relation types between two events. It used TimeBank for experiments, and reported that Naive Bayes (NB) generally gives better performance than maximum entropy (ME). // https://aclanthology.org/P07-2044/\n",
        "\n",
        "In [61], a new corpus for the task of extraction of temporal expressions, namely WikiWars, was introduced. \n",
        "\n",
        "In SemEval-2018, ‘Task 6: Parsing Time Normalizations’ was held as a shared task related to time information extraction [93]. // https://aclanthology.org/D10-1089/\n",
        "\n",
        "\n",
        "\n"
      ],
      "metadata": {
        "id": "aA4a-21738xN"
      }
    },
    {
      "cell_type": "markdown",
      "source": [],
      "metadata": {
        "id": "5rgI6kfXCYnT"
      }
    },
    {
      "cell_type": "markdown",
      "source": [
        "### SPACY"
      ],
      "metadata": {
        "id": "aVVV6IHWCbQX"
      }
    },
    {
      "cell_type": "code",
      "source": [
        "# Load SPACY \n",
        "import spacy\n",
        "nlp=spacy.load('en_core_web_sm')\n",
        "import pandas as pd\n",
        "import numpy as np\n",
        "import re"
      ],
      "metadata": {
        "id": "DrLj2Y5F_9GT"
      },
      "execution_count": 111,
      "outputs": []
    },
    {
      "cell_type": "code",
      "source": [
        "# Load Data & Temporal Extraction\n",
        "raw_text = '2022.07.01 Tesla shares dropped nearly 16% during what CEO Elon Musk called a “very intense 7 days indeed” to one of his 108 million followers on Twitter. Tesla shares closed at $265.25 on Friday, Sept. 30. At market’s close one week later, Tesla shares were trading at $223.07, a decline of nearly 16%. It was the worst week for the stock since Mar. 2020, when the Covid-19 pandemic began to grip the U.S., shutting down businesses and public life. Over the weekend, Tesla reported electric vehicle production and delivery numbers that did not meet analysts’ expectations. On Monday, Musk proceeded to stir up a political firestorm by opining about how he thought Russia’s brutal invasion of Ukraine should be resolved. After that, public records revealed that Musk had informed the Delaware Chancery Court that he would complete a $44 billion acquisition of Twitter in 10/10/2022 October, a deal he had been trying to evade for months.'\n",
        "doc = nlp(raw_text)\n",
        "sentences = [sent.text.strip() for sent in doc.sents]\n",
        "df = pd.DataFrame()\n",
        "df['Sentences']= sentences\n",
        "#print(f\"\\033[1mSentence{x*250}Date{x*22}RDate{x*11}\\033[0m\")\n",
        "regEx1 = r'(?:\\d{1,2}[-/th|st|nd|rd\\s]*)?(?:Jan|Feb|Mar|Apr|May|Jun|Jul|Aug|Sep|Oct|Nov|Dec)[a-z\\s,.]*(?:\\d{1,2}[-/th|st|nd|rd)\\s,]*)?(?:\\d{2,4})'\n",
        "regEx2 = r'(\\d{2,4})[\\.\\/\\-](0[1-9]|1[012])[\\.\\/\\-](\\d{2,4})'\n",
        "df['RDates'] = df['Sentences'].apply(lambda sent: [(ent.text) for ent in nlp(sent).ents if ent.label_ == \"DATE\"])  \n",
        "df['Dates'] = df['Sentences'].apply(lambda sent: re.findall(regEx1, sent))  \n",
        "df['Dates2'] = df['Sentences'].apply(lambda sent: re.findall(regEx2, sent))\n",
        "df['Dates'] =  df['Dates']+df['Dates2']  \n",
        "df=df.drop(['Dates2'],axis=1)\n",
        "#notworking df['RDates']=df['RDates'].str.replace(regEx1, '') \n",
        "df.head(8)"
      ],
      "metadata": {
        "outputId": "33a49789-853f-495b-bcd0-98228cecee10",
        "colab": {
          "base_uri": "https://localhost:8080/",
          "height": 269
        },
        "id": "2f559OqiW-DY"
      },
      "execution_count": 251,
      "outputs": [
        {
          "output_type": "execute_result",
          "data": {
            "text/plain": [
              "                                           Sentences  \\\n",
              "0  2022.07.01 Tesla shares dropped nearly 16% dur...   \n",
              "1  Tesla shares closed at $265.25 on Friday, Sept...   \n",
              "2  At market’s close one week later, Tesla shares...   \n",
              "3  It was the worst week for the stock since Mar....   \n",
              "4  Over the weekend, Tesla reported electric vehi...   \n",
              "5  On Monday, Musk proceeded to stir up a politic...   \n",
              "6  After that, public records revealed that Musk ...   \n",
              "\n",
              "                         RDates             Dates  \n",
              "0                      [7 days]  [(2022, 07, 01)]  \n",
              "1            [Friday, Sept. 30]        [Sept. 30]  \n",
              "2              [one week later]                []  \n",
              "3   [the worst week, Mar. 2020]       [Mar. 2020]  \n",
              "4                 [the weekend]                []  \n",
              "5                      [Monday]                []  \n",
              "6  [10/10/2022 October, months]  [(10, 10, 2022)]  "
            ],
            "text/html": [
              "\n",
              "  <div id=\"df-3ecb59c2-e08d-47fb-a048-5cbdff47009b\">\n",
              "    <div class=\"colab-df-container\">\n",
              "      <div>\n",
              "<style scoped>\n",
              "    .dataframe tbody tr th:only-of-type {\n",
              "        vertical-align: middle;\n",
              "    }\n",
              "\n",
              "    .dataframe tbody tr th {\n",
              "        vertical-align: top;\n",
              "    }\n",
              "\n",
              "    .dataframe thead th {\n",
              "        text-align: right;\n",
              "    }\n",
              "</style>\n",
              "<table border=\"1\" class=\"dataframe\">\n",
              "  <thead>\n",
              "    <tr style=\"text-align: right;\">\n",
              "      <th></th>\n",
              "      <th>Sentences</th>\n",
              "      <th>RDates</th>\n",
              "      <th>Dates</th>\n",
              "    </tr>\n",
              "  </thead>\n",
              "  <tbody>\n",
              "    <tr>\n",
              "      <th>0</th>\n",
              "      <td>2022.07.01 Tesla shares dropped nearly 16% dur...</td>\n",
              "      <td>[7 days]</td>\n",
              "      <td>[(2022, 07, 01)]</td>\n",
              "    </tr>\n",
              "    <tr>\n",
              "      <th>1</th>\n",
              "      <td>Tesla shares closed at $265.25 on Friday, Sept...</td>\n",
              "      <td>[Friday, Sept. 30]</td>\n",
              "      <td>[Sept. 30]</td>\n",
              "    </tr>\n",
              "    <tr>\n",
              "      <th>2</th>\n",
              "      <td>At market’s close one week later, Tesla shares...</td>\n",
              "      <td>[one week later]</td>\n",
              "      <td>[]</td>\n",
              "    </tr>\n",
              "    <tr>\n",
              "      <th>3</th>\n",
              "      <td>It was the worst week for the stock since Mar....</td>\n",
              "      <td>[the worst week, Mar. 2020]</td>\n",
              "      <td>[Mar. 2020]</td>\n",
              "    </tr>\n",
              "    <tr>\n",
              "      <th>4</th>\n",
              "      <td>Over the weekend, Tesla reported electric vehi...</td>\n",
              "      <td>[the weekend]</td>\n",
              "      <td>[]</td>\n",
              "    </tr>\n",
              "    <tr>\n",
              "      <th>5</th>\n",
              "      <td>On Monday, Musk proceeded to stir up a politic...</td>\n",
              "      <td>[Monday]</td>\n",
              "      <td>[]</td>\n",
              "    </tr>\n",
              "    <tr>\n",
              "      <th>6</th>\n",
              "      <td>After that, public records revealed that Musk ...</td>\n",
              "      <td>[10/10/2022 October, months]</td>\n",
              "      <td>[(10, 10, 2022)]</td>\n",
              "    </tr>\n",
              "  </tbody>\n",
              "</table>\n",
              "</div>\n",
              "      <button class=\"colab-df-convert\" onclick=\"convertToInteractive('df-3ecb59c2-e08d-47fb-a048-5cbdff47009b')\"\n",
              "              title=\"Convert this dataframe to an interactive table.\"\n",
              "              style=\"display:none;\">\n",
              "        \n",
              "  <svg xmlns=\"http://www.w3.org/2000/svg\" height=\"24px\"viewBox=\"0 0 24 24\"\n",
              "       width=\"24px\">\n",
              "    <path d=\"M0 0h24v24H0V0z\" fill=\"none\"/>\n",
              "    <path d=\"M18.56 5.44l.94 2.06.94-2.06 2.06-.94-2.06-.94-.94-2.06-.94 2.06-2.06.94zm-11 1L8.5 8.5l.94-2.06 2.06-.94-2.06-.94L8.5 2.5l-.94 2.06-2.06.94zm10 10l.94 2.06.94-2.06 2.06-.94-2.06-.94-.94-2.06-.94 2.06-2.06.94z\"/><path d=\"M17.41 7.96l-1.37-1.37c-.4-.4-.92-.59-1.43-.59-.52 0-1.04.2-1.43.59L10.3 9.45l-7.72 7.72c-.78.78-.78 2.05 0 2.83L4 21.41c.39.39.9.59 1.41.59.51 0 1.02-.2 1.41-.59l7.78-7.78 2.81-2.81c.8-.78.8-2.07 0-2.86zM5.41 20L4 18.59l7.72-7.72 1.47 1.35L5.41 20z\"/>\n",
              "  </svg>\n",
              "      </button>\n",
              "      \n",
              "  <style>\n",
              "    .colab-df-container {\n",
              "      display:flex;\n",
              "      flex-wrap:wrap;\n",
              "      gap: 12px;\n",
              "    }\n",
              "\n",
              "    .colab-df-convert {\n",
              "      background-color: #E8F0FE;\n",
              "      border: none;\n",
              "      border-radius: 50%;\n",
              "      cursor: pointer;\n",
              "      display: none;\n",
              "      fill: #1967D2;\n",
              "      height: 32px;\n",
              "      padding: 0 0 0 0;\n",
              "      width: 32px;\n",
              "    }\n",
              "\n",
              "    .colab-df-convert:hover {\n",
              "      background-color: #E2EBFA;\n",
              "      box-shadow: 0px 1px 2px rgba(60, 64, 67, 0.3), 0px 1px 3px 1px rgba(60, 64, 67, 0.15);\n",
              "      fill: #174EA6;\n",
              "    }\n",
              "\n",
              "    [theme=dark] .colab-df-convert {\n",
              "      background-color: #3B4455;\n",
              "      fill: #D2E3FC;\n",
              "    }\n",
              "\n",
              "    [theme=dark] .colab-df-convert:hover {\n",
              "      background-color: #434B5C;\n",
              "      box-shadow: 0px 1px 3px 1px rgba(0, 0, 0, 0.15);\n",
              "      filter: drop-shadow(0px 1px 2px rgba(0, 0, 0, 0.3));\n",
              "      fill: #FFFFFF;\n",
              "    }\n",
              "  </style>\n",
              "\n",
              "      <script>\n",
              "        const buttonEl =\n",
              "          document.querySelector('#df-3ecb59c2-e08d-47fb-a048-5cbdff47009b button.colab-df-convert');\n",
              "        buttonEl.style.display =\n",
              "          google.colab.kernel.accessAllowed ? 'block' : 'none';\n",
              "\n",
              "        async function convertToInteractive(key) {\n",
              "          const element = document.querySelector('#df-3ecb59c2-e08d-47fb-a048-5cbdff47009b');\n",
              "          const dataTable =\n",
              "            await google.colab.kernel.invokeFunction('convertToInteractive',\n",
              "                                                     [key], {});\n",
              "          if (!dataTable) return;\n",
              "\n",
              "          const docLinkHtml = 'Like what you see? Visit the ' +\n",
              "            '<a target=\"_blank\" href=https://colab.research.google.com/notebooks/data_table.ipynb>data table notebook</a>'\n",
              "            + ' to learn more about interactive tables.';\n",
              "          element.innerHTML = '';\n",
              "          dataTable['output_type'] = 'display_data';\n",
              "          await google.colab.output.renderOutput(dataTable, element);\n",
              "          const docLink = document.createElement('div');\n",
              "          docLink.innerHTML = docLinkHtml;\n",
              "          element.appendChild(docLink);\n",
              "        }\n",
              "      </script>\n",
              "    </div>\n",
              "  </div>\n",
              "  "
            ]
          },
          "metadata": {},
          "execution_count": 251
        }
      ]
    },
    {
      "cell_type": "markdown",
      "source": [
        "### BERT INITIATION"
      ],
      "metadata": {
        "id": "DATiwcyoCWka"
      }
    },
    {
      "cell_type": "code",
      "source": [
        "import tensorflow as tf\n",
        "\n",
        "device_name = tf.test.gpu_device_name()\n",
        "if device_name != '/device:GPU:0':\n",
        "  raise SystemError('GPU device not found')\n",
        "print('Found GPU at: {}'.format(device_name))"
      ],
      "metadata": {
        "id": "TypN4cn8-KDU"
      },
      "execution_count": null,
      "outputs": []
    },
    {
      "cell_type": "code",
      "source": [
        "!pip install pytorch-pretrained-bert pytorch-nlp"
      ],
      "metadata": {
        "id": "SNX04eCO-Xoy"
      },
      "execution_count": null,
      "outputs": []
    },
    {
      "cell_type": "code",
      "source": [
        "import torch\n",
        "from torch.utils.data import TensorDataset, DataLoader, RandomSampler, SequentialSampler\n",
        "from keras.preprocessing.sequence import pad_sequences\n",
        "from sklearn.model_selection import train_test_split\n",
        "from pytorch_pretrained_bert import BertTokenizer, BertConfig\n",
        "from pytorch_pretrained_bert import BertAdam, BertForSequenceClassification\n",
        "from tqdm import tqdm, trange\n",
        "import pandas as pd\n",
        "import io\n",
        "import numpy as np\n",
        "import matplotlib.pyplot as plt"
      ],
      "metadata": {
        "id": "6sj24-oZ-ejN"
      },
      "execution_count": 4,
      "outputs": []
    },
    {
      "cell_type": "code",
      "source": [
        "device = torch.device(\"cuda\" if torch.cuda.is_available() else \"cpu\")\n",
        "n_gpu = torch.cuda.device_count()\n",
        "torch.cuda.get_device_name(0)"
      ],
      "metadata": {
        "id": "cwFykQa3-_5r"
      },
      "execution_count": null,
      "outputs": []
    },
    {
      "cell_type": "markdown",
      "source": [
        "## ARCHIVE CODES"
      ],
      "metadata": {
        "id": "jyr3tYEDgsCa"
      }
    },
    {
      "cell_type": "code",
      "source": [
        "#skip\n",
        " \n",
        "sentence = \"Tesla shares dropped nearly 16% during what CEO Elon Musk called a “very intense 7 days indeed” to one of his 108 million followers on Twitter. Tesla shares closed at $265.25 on Friday, Sept. 30. At market’s close one week later, Tesla shares were trading at $223.07, a decline of nearly 16%. It was the worst week for the stock since Mar. 2020, when the Covid-19 pandemic began to grip the U.S., shutting down businesses and public life. Over the weekend, Tesla reported electric vehicle production and delivery numbers that did not meet analysts’ expectations. On Monday, Musk proceeded to stir up a political firestorm by opining about how he thought Russia’s brutal invasion of Ukraine should be resolved. After that, public records revealed that Musk had informed the Delaware Chancery Court that he would complete a $44 billion acquisition of Twitter in October, a deal he had been trying to evade for months.\"\n",
        "x=' '\n",
        "doc=nlp(sentence)\n",
        "print(f\"\\033[1mText{x*22}Label{x*11}\\033[0m\")\n",
        "for entities in doc.ents:\n",
        "  if entities.label_ == \"DATE\":\n",
        "    print(f\"{entities.text:<25} {entities.label_:<15}\")"
      ],
      "metadata": {
        "id": "5LzFwyFSBWe0"
      },
      "execution_count": null,
      "outputs": []
    },
    {
      "cell_type": "code",
      "source": [
        "# Step Three: Load Data & Temporal Extraction\n",
        "raw_text = '2022.07.01 Tesla shares dropped nearly 16% during what CEO Elon Musk called a “very intense 7 days indeed” to one of his 108 million followers on Twitter. Tesla shares closed at $265.25 on Friday, Sept. 30. At market’s close one week later, Tesla shares were trading at $223.07, a decline of nearly 16%. It was the worst week for the stock since Mar. 2020, when the Covid-19 pandemic began to grip the U.S., shutting down businesses and public life. Over the weekend, Tesla reported electric vehicle production and delivery numbers that did not meet analysts’ expectations. On Monday, Musk proceeded to stir up a political firestorm by opining about how he thought Russia’s brutal invasion of Ukraine should be resolved. After that, public records revealed that Musk had informed the Delaware Chancery Court that he would complete a $44 billion acquisition of Twitter in 10/10/2022 October, a deal he had been trying to evade for months.'\n",
        "doc = nlp(raw_text)\n",
        "sentences = [sent.text.strip() for sent in doc.sents]\n",
        "print(f\"\\033[1mSentence{x*250}Date{x*22}RDate{x*22}\\033[0m\")\n",
        "regEx1 = r'(?:\\d{1,2}[-/th|st|nd|rd\\s]*)?(?:Jan|Feb|Mar|Apr|May|Jun|Jul|Aug|Sep|Oct|Nov|Dec)[a-z\\s,.]*(?:\\d{1,2}[-/th|st|nd|rd)\\s,]*)?(?:\\d{2,4})'\n",
        "regEx2 = r'(\\d{2,4})[\\.\\/\\-](0[1-9]|1[012])[\\.\\/\\-](\\d{2,4})'\n",
        "for s in sentences:\n",
        "  doc=nlp(s)\n",
        "  datef1=re.findall(regEx1, s)\n",
        "  datef2=re.findall(regEx2, s)\n",
        "  for entities in doc.ents:\n",
        "    if entities.label_ == \"DATE\":\n",
        "      print(f\"{s:<250} {entities.text:<22} \")\n",
        "      print(datef1)\n",
        "      print(datef2)"
      ],
      "metadata": {
        "id": "zY1zS-0hguFB"
      },
      "execution_count": null,
      "outputs": []
    },
    {
      "cell_type": "code",
      "source": [
        "regEx1 = r'(?:\\d{1,2}[-/th|st|nd|rd\\s]*)?(?:Jan|Feb|Mar|Apr|May|Jun|Jul|Aug|Sep|Oct|Nov|Dec)[a-z\\s,.]*(?:\\d{1,2}[-/th|st|nd|rd)\\s,]*)?(?:\\d{2,4})'\n",
        "for s in sentences:\n",
        "  new=re.findall(regEx1, s)\n",
        "  print(new)\n",
        "\n",
        "regEx2 = r'(\\d{2,4})[\\.\\/\\-](0[1-9]|1[012])[\\.\\/\\-](\\d{2,4})'\n",
        "for s in sentences:\n",
        "  new=re.findall(regEx2, s)\n",
        "  print(new)\n"
      ],
      "metadata": {
        "id": "TPIpZnA7Lf2g"
      },
      "execution_count": null,
      "outputs": []
    }
  ]
}