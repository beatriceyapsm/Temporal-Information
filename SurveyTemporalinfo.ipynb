{
  "cells": [
    {
      "cell_type": "markdown",
      "metadata": {
        "id": "view-in-github",
        "colab_type": "text"
      },
      "source": [
        "<a href=\"https://colab.research.google.com/github/beatriceyapsm/temporaltest/blob/main/SurveyTemporalinfo.ipynb\" target=\"_parent\"><img src=\"https://colab.research.google.com/assets/colab-badge.svg\" alt=\"Open In Colab\"/></a>"
      ]
    },
    {
      "cell_type": "markdown",
      "metadata": {
        "id": "aA4a-21738xN"
      },
      "source": [
        "##Temporal Information Extraction\n",
        "Temporal information can be represented as {T, E, R}, where T denotes the temporal points, durations or intervals, E means the events, and R represents the temporal relation. \n",
        "Three main approaches to the task of temporal information extraction: rule-based, datadriven, and hybrid.\n",
        "Tempeval-1, Tempeval-2 and Tempeval-3 are all exercises in temporal information extraction. \n",
        "\n",
        "TimeML is a set of rules for encoding documents electronically.\n",
        "- EVENT tag is used to annotate those elements in a text that mark the semantic events \n",
        "- TIMEX3 tag is primarily used to mark up explicit temporal expressions, such as times, dates, durations, etc. \n",
        "- MAKEINSTANCE tag: for when a new instance should be created as an event occurs on multiple days (eg. He taught last Wednesday and today.)\n",
        "- TLINK or Temporal Link represents the temporal relationship holding\n",
        "between events, times, or between an event and a time.\n",
        "\n",
        "Best f1-score for timex3: rule-based system Heideltime\n",
        "Best f1-score for event & makeinstance: ATT-1 Using Max Entropy\n",
        "\n",
        "Publicly available dataset, namely TimeBank.\n",
        "\n",
        "In [51], a method for extracting temporal relations between two\n",
        "events was proposed. It had two stages: (1) a machine-learning model for classifying event attributes (i.e., tense, aspect, modality, polarity, and event class), and (2) a machine-learning model for classifying the\n",
        "relation types between two events. It used TimeBank for experiments, and reported that Naive Bayes (NB) generally gives better performance than maximum entropy (ME). // https://aclanthology.org/P07-2044/\n",
        "\n",
        "In [61], a new corpus for the task of extraction of temporal expressions, namely WikiWars, was introduced. \n",
        "\n",
        "In SemEval-2018, ‘Task 6: Parsing Time Normalizations’ was held as a shared task related to time information extraction [93]. // https://aclanthology.org/D10-1089/\n",
        "\n",
        "\n",
        "\n"
      ]
    },
    {
      "cell_type": "markdown",
      "metadata": {
        "id": "aVVV6IHWCbQX"
      },
      "source": [
        "### SPACY"
      ]
    },
    {
      "cell_type": "code",
      "execution_count": 1,
      "metadata": {
        "id": "DrLj2Y5F_9GT"
      },
      "outputs": [],
      "source": [
        "# Load SPACY \n",
        "import spacy\n",
        "#from spacy.lang.en import English\n",
        "from spacy import displacy\n",
        "nlp=spacy.load('en_core_web_sm')\n",
        "import pandas as pd\n",
        "import numpy as np\n",
        "import re"
      ]
    },
    {
      "cell_type": "code",
      "execution_count": 11,
      "metadata": {
        "id": "2f559OqiW-DY"
      },
      "outputs": [],
      "source": [
        "# Load Data & Temporal Extraction\n",
        "raw_text = '04.10.2022 Tesla shares dropped nearly 16% during what CEO Elon Musk called a “very intense 7 days indeed” to one of his 108 million followers on Twitter. Tesla shares closed at $265.25 on Friday, Sept. 30. At market’s close one week later, Tesla shares were trading at $223.07, a decline of nearly 16%. It was the worst week for the stock since Mar. 2020, when the Covid-19 pandemic began to grip the U.S., shutting down businesses and public life. Over the weekend, Tesla reported electric vehicle production and delivery numbers that did not meet analysts’ expectations. On Monday, Musk proceeded to stir up a political firestorm by opining about how he thought Russia’s brutal invasion of Ukraine should be resolved. After that, public records revealed that Musk had informed the Delaware Chancery Court that he would complete a $44 billion acquisition of Twitter in 10/10/2022 October, a deal he had been trying to evade for months.'\n",
        "#nlp = English()\n",
        "#nlp.add_pipe('sentencizer')\n",
        "\n"
      ]
    },
    {
      "cell_type": "code",
      "source": [
        "#replace numeral months\n",
        "regEx2 = r'[\\.\\/\\-](0[1-9]|1[012])[\\.\\/\\-]'\n",
        "\n",
        "raw_text=re.sub(regEx2, '.Oct.', raw_text) #need to write a function to match the numbers to the right mth. I just put in Oct here for now to make Spacy read it as date entity.\n",
        "    \n"
      ],
      "metadata": {
        "id": "g9KFKHnBSg10"
      },
      "execution_count": 12,
      "outputs": []
    },
    {
      "cell_type": "code",
      "source": [
        "doc = nlp(raw_text)\n",
        "sentences = [sent.text.strip() for sent in doc.sents]\n",
        "df = pd.DataFrame()\n",
        "df['Sentences']= sentences\n",
        "\n",
        "#print(f\"\\033[1mSentence{x*250}Date{x*22}RDate{x*11}\\033[0m\")"
      ],
      "metadata": {
        "id": "-___WHoiiiGg"
      },
      "execution_count": 4,
      "outputs": []
    },
    {
      "cell_type": "markdown",
      "metadata": {
        "id": "M-GlERdqE9Qv"
      },
      "source": [
        "###Spacy Visualisation"
      ]
    },
    {
      "cell_type": "code",
      "execution_count": null,
      "metadata": {
        "id": "Jmqdk7LNE9Qv"
      },
      "outputs": [],
      "source": [
        "displacy.render(doc, style=\"ent\")"
      ]
    },
    {
      "cell_type": "code",
      "execution_count": 5,
      "metadata": {
        "id": "s9NIUA0LE9Qx",
        "outputId": "6b7cf687-2ebb-4b2b-b916-704cbf56e343",
        "colab": {
          "base_uri": "https://localhost:8080/",
          "height": 269
        }
      },
      "outputs": [
        {
          "output_type": "execute_result",
          "data": {
            "text/plain": [
              "                                           Sentences  \\\n",
              "0  04.Oct.2022 Tesla shares dropped nearly 16% du...   \n",
              "1  Tesla shares closed at $265.25 on Friday, Sept...   \n",
              "2  At market’s close one week later, Tesla shares...   \n",
              "3  It was the worst week for the stock since Mar....   \n",
              "4  Over the weekend, Tesla reported electric vehi...   \n",
              "5  On Monday, Musk proceeded to stir up a politic...   \n",
              "6  After that, public records revealed that Musk ...   \n",
              "\n",
              "                          RDates  \n",
              "0                       [7 days]  \n",
              "1             [Friday, Sept. 30]  \n",
              "2               [one week later]  \n",
              "3    [the worst week, Mar. 2020]  \n",
              "4                  [the weekend]  \n",
              "5                       [Monday]  \n",
              "6  [10.Oct.2022 October, months]  "
            ],
            "text/html": [
              "\n",
              "  <div id=\"df-3df669d7-952f-4cda-85fa-a4ba7dd8b863\">\n",
              "    <div class=\"colab-df-container\">\n",
              "      <div>\n",
              "<style scoped>\n",
              "    .dataframe tbody tr th:only-of-type {\n",
              "        vertical-align: middle;\n",
              "    }\n",
              "\n",
              "    .dataframe tbody tr th {\n",
              "        vertical-align: top;\n",
              "    }\n",
              "\n",
              "    .dataframe thead th {\n",
              "        text-align: right;\n",
              "    }\n",
              "</style>\n",
              "<table border=\"1\" class=\"dataframe\">\n",
              "  <thead>\n",
              "    <tr style=\"text-align: right;\">\n",
              "      <th></th>\n",
              "      <th>Sentences</th>\n",
              "      <th>RDates</th>\n",
              "    </tr>\n",
              "  </thead>\n",
              "  <tbody>\n",
              "    <tr>\n",
              "      <th>0</th>\n",
              "      <td>04.Oct.2022 Tesla shares dropped nearly 16% du...</td>\n",
              "      <td>[7 days]</td>\n",
              "    </tr>\n",
              "    <tr>\n",
              "      <th>1</th>\n",
              "      <td>Tesla shares closed at $265.25 on Friday, Sept...</td>\n",
              "      <td>[Friday, Sept. 30]</td>\n",
              "    </tr>\n",
              "    <tr>\n",
              "      <th>2</th>\n",
              "      <td>At market’s close one week later, Tesla shares...</td>\n",
              "      <td>[one week later]</td>\n",
              "    </tr>\n",
              "    <tr>\n",
              "      <th>3</th>\n",
              "      <td>It was the worst week for the stock since Mar....</td>\n",
              "      <td>[the worst week, Mar. 2020]</td>\n",
              "    </tr>\n",
              "    <tr>\n",
              "      <th>4</th>\n",
              "      <td>Over the weekend, Tesla reported electric vehi...</td>\n",
              "      <td>[the weekend]</td>\n",
              "    </tr>\n",
              "    <tr>\n",
              "      <th>5</th>\n",
              "      <td>On Monday, Musk proceeded to stir up a politic...</td>\n",
              "      <td>[Monday]</td>\n",
              "    </tr>\n",
              "    <tr>\n",
              "      <th>6</th>\n",
              "      <td>After that, public records revealed that Musk ...</td>\n",
              "      <td>[10.Oct.2022 October, months]</td>\n",
              "    </tr>\n",
              "  </tbody>\n",
              "</table>\n",
              "</div>\n",
              "      <button class=\"colab-df-convert\" onclick=\"convertToInteractive('df-3df669d7-952f-4cda-85fa-a4ba7dd8b863')\"\n",
              "              title=\"Convert this dataframe to an interactive table.\"\n",
              "              style=\"display:none;\">\n",
              "        \n",
              "  <svg xmlns=\"http://www.w3.org/2000/svg\" height=\"24px\"viewBox=\"0 0 24 24\"\n",
              "       width=\"24px\">\n",
              "    <path d=\"M0 0h24v24H0V0z\" fill=\"none\"/>\n",
              "    <path d=\"M18.56 5.44l.94 2.06.94-2.06 2.06-.94-2.06-.94-.94-2.06-.94 2.06-2.06.94zm-11 1L8.5 8.5l.94-2.06 2.06-.94-2.06-.94L8.5 2.5l-.94 2.06-2.06.94zm10 10l.94 2.06.94-2.06 2.06-.94-2.06-.94-.94-2.06-.94 2.06-2.06.94z\"/><path d=\"M17.41 7.96l-1.37-1.37c-.4-.4-.92-.59-1.43-.59-.52 0-1.04.2-1.43.59L10.3 9.45l-7.72 7.72c-.78.78-.78 2.05 0 2.83L4 21.41c.39.39.9.59 1.41.59.51 0 1.02-.2 1.41-.59l7.78-7.78 2.81-2.81c.8-.78.8-2.07 0-2.86zM5.41 20L4 18.59l7.72-7.72 1.47 1.35L5.41 20z\"/>\n",
              "  </svg>\n",
              "      </button>\n",
              "      \n",
              "  <style>\n",
              "    .colab-df-container {\n",
              "      display:flex;\n",
              "      flex-wrap:wrap;\n",
              "      gap: 12px;\n",
              "    }\n",
              "\n",
              "    .colab-df-convert {\n",
              "      background-color: #E8F0FE;\n",
              "      border: none;\n",
              "      border-radius: 50%;\n",
              "      cursor: pointer;\n",
              "      display: none;\n",
              "      fill: #1967D2;\n",
              "      height: 32px;\n",
              "      padding: 0 0 0 0;\n",
              "      width: 32px;\n",
              "    }\n",
              "\n",
              "    .colab-df-convert:hover {\n",
              "      background-color: #E2EBFA;\n",
              "      box-shadow: 0px 1px 2px rgba(60, 64, 67, 0.3), 0px 1px 3px 1px rgba(60, 64, 67, 0.15);\n",
              "      fill: #174EA6;\n",
              "    }\n",
              "\n",
              "    [theme=dark] .colab-df-convert {\n",
              "      background-color: #3B4455;\n",
              "      fill: #D2E3FC;\n",
              "    }\n",
              "\n",
              "    [theme=dark] .colab-df-convert:hover {\n",
              "      background-color: #434B5C;\n",
              "      box-shadow: 0px 1px 3px 1px rgba(0, 0, 0, 0.15);\n",
              "      filter: drop-shadow(0px 1px 2px rgba(0, 0, 0, 0.3));\n",
              "      fill: #FFFFFF;\n",
              "    }\n",
              "  </style>\n",
              "\n",
              "      <script>\n",
              "        const buttonEl =\n",
              "          document.querySelector('#df-3df669d7-952f-4cda-85fa-a4ba7dd8b863 button.colab-df-convert');\n",
              "        buttonEl.style.display =\n",
              "          google.colab.kernel.accessAllowed ? 'block' : 'none';\n",
              "\n",
              "        async function convertToInteractive(key) {\n",
              "          const element = document.querySelector('#df-3df669d7-952f-4cda-85fa-a4ba7dd8b863');\n",
              "          const dataTable =\n",
              "            await google.colab.kernel.invokeFunction('convertToInteractive',\n",
              "                                                     [key], {});\n",
              "          if (!dataTable) return;\n",
              "\n",
              "          const docLinkHtml = 'Like what you see? Visit the ' +\n",
              "            '<a target=\"_blank\" href=https://colab.research.google.com/notebooks/data_table.ipynb>data table notebook</a>'\n",
              "            + ' to learn more about interactive tables.';\n",
              "          element.innerHTML = '';\n",
              "          dataTable['output_type'] = 'display_data';\n",
              "          await google.colab.output.renderOutput(dataTable, element);\n",
              "          const docLink = document.createElement('div');\n",
              "          docLink.innerHTML = docLinkHtml;\n",
              "          element.appendChild(docLink);\n",
              "        }\n",
              "      </script>\n",
              "    </div>\n",
              "  </div>\n",
              "  "
            ]
          },
          "metadata": {},
          "execution_count": 5
        }
      ],
      "source": [
        "#regEx1 = r'(?:\\d{1,2}[-/th|st|nd|rd\\s]*)?(?:Jan|Feb|Mar|Apr|May|Jun|Jul|Aug|Sep|Oct|Nov|Dec)[a-z\\s,.]*(?:\\d{1,2}[-/th|st|nd|rd)\\s,]*)?(?:\\d{2,4})'\n",
        "#regEx2 = r'(\\d{2,4})[\\.\\/\\-](0[1-9]|1[012])[\\.\\/\\-](\\d{2,4})'\n",
        "df['RDates'] = df['Sentences'].apply(lambda sent: [(ent.text) for ent in nlp(sent).ents if ent.label_ == \"DATE\"])  \n",
        "#df['RDates']=df['RDates'].str.split(\",\").str[0] \n",
        "#df['Dates'] = df['Sentences'].apply(lambda sent: re.findall(regEx1, sent))  \n",
        "#df['Dates2'] = df['Sentences'].apply(lambda sent: re.findall(regEx2, sent))\n",
        "#df['Dates'] =  df['Dates']+df['Dates2']  \n",
        "#df=df.drop(['Dates2'],axis=1)\n",
        "#df = pd.DataFrame(df['RDates'].values.tolist(), index=df.index)\n",
        "df.head(8)\n"
      ]
    },
    {
      "cell_type": "markdown",
      "source": [
        "###EVENTS\n",
        "https://www.qualicen.de/natural-language-processing-timeline-extraction-with-regexes-and-spacy/"
      ],
      "metadata": {
        "id": "CwtY5y4oKzkx"
      }
    },
    {
      "cell_type": "code",
      "source": [
        "pip install daterangeparser"
      ],
      "metadata": {
        "id": "k7qdkxSFHf4Z",
        "outputId": "0a7bd2ad-c226-433b-bfc1-859ef494da27",
        "colab": {
          "base_uri": "https://localhost:8080/"
        }
      },
      "execution_count": 6,
      "outputs": [
        {
          "output_type": "stream",
          "name": "stdout",
          "text": [
            "Looking in indexes: https://pypi.org/simple, https://us-python.pkg.dev/colab-wheels/public/simple/\n",
            "Requirement already satisfied: daterangeparser in /usr/local/lib/python3.7/dist-packages (1.3.2)\n",
            "Requirement already satisfied: pyparsing in /usr/local/lib/python3.7/dist-packages (from daterangeparser) (3.0.9)\n"
          ]
        }
      ]
    },
    {
      "cell_type": "code",
      "source": [
        "import spacy\n",
        "import requests\n",
        "import re\n",
        "import IPython\n",
        "from daterangeparser import parse"
      ],
      "metadata": {
        "id": "n6Vw_tRwHkBL"
      },
      "execution_count": 7,
      "outputs": []
    },
    {
      "cell_type": "code",
      "source": [
        "#response = requests.get('https://raw.githubusercontent.com/qualicen/timeline/master/history_of_germany.txt')\n",
        "#text = response.text\n",
        "#print('Loaded {} lines'.format(text.count('\\n')))"
      ],
      "metadata": {
        "id": "xjkV54vZK8zm"
      },
      "execution_count": null,
      "outputs": []
    },
    {
      "cell_type": "code",
      "source": [
        "doc = nlp(raw_text)\n",
        "for ent in filter(lambda e: e.label_=='DATE',doc.ents):\n",
        "  print(ent.text)"
      ],
      "metadata": {
        "id": "4gSQ05_tLYKH",
        "outputId": "95aff47c-6332-4878-dbd0-8cdfeee24957",
        "colab": {
          "base_uri": "https://localhost:8080/"
        }
      },
      "execution_count": 13,
      "outputs": [
        {
          "output_type": "stream",
          "name": "stdout",
          "text": [
            "7 days\n",
            "Friday, Sept. 30\n",
            "one week later\n",
            "the worst week\n",
            "Mar. 2020\n",
            "the weekend\n",
            "Monday\n",
            "10.Oct.2022 October\n",
            "months\n"
          ]
        }
      ]
    },
    {
      "cell_type": "code",
      "source": [
        "#doc = nlp(\"After that, public records revealed that Musk had informed the Delaware Chancery Court that he would complete a $44 billion acquisition of Twitter in 10/10/2022 October, a deal he had been trying to evade for months.\")\n",
        "#IPython.display.HTML(spacy.displacy.render(doc,style=\"dep\", page=True, options={\"compact\":True}))"
      ],
      "metadata": {
        "id": "_J6tJiSORUr3"
      },
      "execution_count": null,
      "outputs": []
    },
    {
      "cell_type": "markdown",
      "source": [
        "https://downloads.cs.stanford.edu/nlp/software/dependencies_manual.pdf"
      ],
      "metadata": {
        "id": "yDhU9GbB8xMs"
      }
    },
    {
      "cell_type": "code",
      "source": [
        "def dep_subtree(token, dep):\n",
        "  deps =[child.dep_ for child in token.children]\n",
        "  child=next(filter(lambda c: c.dep_==dep, token.children), None)\n",
        "  if child != None:\n",
        "    return \" \".join([c.text for c in child.subtree])\n",
        "  else:\n",
        "    return \"\"\n",
        "\n",
        "# to remove citations, e.g. \"[91]\" as this makes problems with spaCy\n",
        "p = re.compile(r'\\[\\d+\\]')\n",
        "  "
      ],
      "metadata": {
        "id": "MEIIeHbcFr8-"
      },
      "execution_count": 19,
      "outputs": []
    },
    {
      "cell_type": "code",
      "source": [
        "def extract_events_spacy(line):\n",
        "  line=p.sub('', line)\n",
        "  events = []\n",
        "  doc = nlp(line)\n",
        "  for ent in filter(lambda e: e.label_=='DATE',doc.ents):\n",
        "    try:\n",
        "      start,end = parse(ent.text)\n",
        "    except:\n",
        "      # could not parse the dates, hence ignore it\n",
        "      continue\n",
        "    current = ent.root\n",
        "    while current.dep_ != \"ROOT\":\n",
        "      current = current.head\n",
        "    desc = \" \".join(filter(None,[\n",
        "                                 dep_subtree(current,\"nsubj\"),\n",
        "                                 dep_subtree(current,\"nsubjpass\"),\n",
        "                                 dep_subtree(current,\"auxpass\"),\n",
        "                                 dep_subtree(current,\"amod\"),\n",
        "                                 dep_subtree(current,\"det\"),\n",
        "                                 current.text, \n",
        "                                 dep_subtree(current,\"acl\"),\n",
        "                                 dep_subtree(current,\"dobj\"),\n",
        "                                 dep_subtree(current,\"attr\"),\n",
        "                                 dep_subtree(current,\"advmod\")]))\n",
        "    events = events + [(start,ent.text,desc)]\n",
        "    print (events)\n",
        "  return events"
      ],
      "metadata": {
        "id": "n7XUkMJ6kTKP"
      },
      "execution_count": null,
      "outputs": []
    },
    {
      "cell_type": "code",
      "source": [
        "def extract_all_events(text, extract_function):\n",
        "  all_events = []\n",
        "  processed = 0\n",
        "  # Process the events\n",
        "  for processed,line in enumerate(text.splitlines()):\n",
        "    events = extract_function(line)\n",
        "    all_events = all_events + events\n",
        "\n",
        "  print(\"Extracted {} events.\".format(len(all_events)))\n",
        "\n",
        "  # Print out the events\n",
        "  for event in all_events:\n",
        "    print(event)\n",
        "\n",
        "  devent= pd.DataFrame(all_events)\n",
        "  return devent"
      ],
      "metadata": {
        "id": "1n-gs1aBPq47"
      },
      "execution_count": 27,
      "outputs": []
    },
    {
      "cell_type": "code",
      "source": [
        "def extract_events_spacytest(line):\n",
        "  line=p.sub('', line)\n",
        "  events = []\n",
        "  doc = nlp(line)\n",
        "  for ent in filter(lambda e: e.label_=='DATE',doc.ents):\n",
        "\n",
        "    current = ent.root\n",
        "    while current.dep_ != \"ROOT\":\n",
        "      current = current.head\n",
        "    desc = \" \".join(filter(None,[\n",
        "                                 dep_subtree(current,\"nsubj\"),\n",
        "                                 dep_subtree(current,\"csubj\"),\n",
        "                                 dep_subtree(current,\"auxpass\"),\n",
        "                                 dep_subtree(current,\"pobj\"),\n",
        "                                 current.text,\n",
        "                                 dep_subtree(current,\"prep\"),\n",
        "                                 dep_subtree(current,\"dobj\"),\n",
        "                                 dep_subtree(current,\"advmod\"),\n",
        "                                 dep_subtree(current,\"xcomp\"),\n",
        "                                 dep_subtree(current,\"acl\"),\n",
        "                                 dep_subtree(current,\"attr\")]))\n",
        "    events = events + [(ent.text,desc)]\n",
        "  return events"
      ],
      "metadata": {
        "id": "Nh0vHFddM_pK"
      },
      "execution_count": 16,
      "outputs": []
    },
    {
      "cell_type": "code",
      "source": [
        "text = raw_text"
      ],
      "metadata": {
        "id": "mtfL_HdY4gBU"
      },
      "execution_count": 17,
      "outputs": []
    },
    {
      "cell_type": "code",
      "source": [
        "extract_all_events(text,extract_events_spacytest)"
      ],
      "metadata": {
        "id": "HAgbrYbyLtoR",
        "outputId": "d9f2ce6a-e960-4d90-9925-631c48bc1476",
        "colab": {
          "base_uri": "https://localhost:8080/",
          "height": 493
        }
      },
      "execution_count": 28,
      "outputs": [
        {
          "output_type": "stream",
          "name": "stdout",
          "text": [
            "Extracted 9 events.\n",
            "('7 days', '04.Oct.2022 Tesla shares dropped during what CEO Elon Musk called a “ very intense 7 days indeed ” to one of his 108 million followers on Twitter')\n",
            "('Friday, Sept. 30', 'Tesla shares closed at $ 265.25')\n",
            "('one week later', 'Tesla shares trading At market ’s close one week later a decline of nearly 16 %')\n",
            "('the worst week', 'It was the worst week for the stock since Mar. 2020 , when the Covid-19 pandemic began to grip the U.S. , shutting down businesses and public life')\n",
            "('Mar. 2020', 'It was the worst week for the stock since Mar. 2020 , when the Covid-19 pandemic began to grip the U.S. , shutting down businesses and public life')\n",
            "('the weekend', 'Tesla reported Over the weekend electric vehicle production and delivery numbers that did not meet analysts ’ expectations')\n",
            "('Monday', 'Musk proceeded On Monday to stir up a political firestorm by opining about how he thought Russia ’s brutal invasion of Ukraine should be resolved')\n",
            "('10.Oct.2022 October', 'public records revealed After that')\n",
            "('months', 'public records revealed After that')\n"
          ]
        },
        {
          "output_type": "execute_result",
          "data": {
            "text/plain": [
              "                     0                                                  1\n",
              "0               7 days  04.Oct.2022 Tesla shares dropped during what C...\n",
              "1     Friday, Sept. 30                    Tesla shares closed at $ 265.25\n",
              "2       one week later  Tesla shares trading At market ’s close one we...\n",
              "3       the worst week  It was the worst week for the stock since Mar....\n",
              "4            Mar. 2020  It was the worst week for the stock since Mar....\n",
              "5          the weekend  Tesla reported Over the weekend electric vehic...\n",
              "6               Monday  Musk proceeded On Monday to stir up a politica...\n",
              "7  10.Oct.2022 October                 public records revealed After that\n",
              "8               months                 public records revealed After that"
            ],
            "text/html": [
              "\n",
              "  <div id=\"df-09a9ed8f-1c68-4b66-9e00-9df8de8f0100\">\n",
              "    <div class=\"colab-df-container\">\n",
              "      <div>\n",
              "<style scoped>\n",
              "    .dataframe tbody tr th:only-of-type {\n",
              "        vertical-align: middle;\n",
              "    }\n",
              "\n",
              "    .dataframe tbody tr th {\n",
              "        vertical-align: top;\n",
              "    }\n",
              "\n",
              "    .dataframe thead th {\n",
              "        text-align: right;\n",
              "    }\n",
              "</style>\n",
              "<table border=\"1\" class=\"dataframe\">\n",
              "  <thead>\n",
              "    <tr style=\"text-align: right;\">\n",
              "      <th></th>\n",
              "      <th>0</th>\n",
              "      <th>1</th>\n",
              "    </tr>\n",
              "  </thead>\n",
              "  <tbody>\n",
              "    <tr>\n",
              "      <th>0</th>\n",
              "      <td>7 days</td>\n",
              "      <td>04.Oct.2022 Tesla shares dropped during what C...</td>\n",
              "    </tr>\n",
              "    <tr>\n",
              "      <th>1</th>\n",
              "      <td>Friday, Sept. 30</td>\n",
              "      <td>Tesla shares closed at $ 265.25</td>\n",
              "    </tr>\n",
              "    <tr>\n",
              "      <th>2</th>\n",
              "      <td>one week later</td>\n",
              "      <td>Tesla shares trading At market ’s close one we...</td>\n",
              "    </tr>\n",
              "    <tr>\n",
              "      <th>3</th>\n",
              "      <td>the worst week</td>\n",
              "      <td>It was the worst week for the stock since Mar....</td>\n",
              "    </tr>\n",
              "    <tr>\n",
              "      <th>4</th>\n",
              "      <td>Mar. 2020</td>\n",
              "      <td>It was the worst week for the stock since Mar....</td>\n",
              "    </tr>\n",
              "    <tr>\n",
              "      <th>5</th>\n",
              "      <td>the weekend</td>\n",
              "      <td>Tesla reported Over the weekend electric vehic...</td>\n",
              "    </tr>\n",
              "    <tr>\n",
              "      <th>6</th>\n",
              "      <td>Monday</td>\n",
              "      <td>Musk proceeded On Monday to stir up a politica...</td>\n",
              "    </tr>\n",
              "    <tr>\n",
              "      <th>7</th>\n",
              "      <td>10.Oct.2022 October</td>\n",
              "      <td>public records revealed After that</td>\n",
              "    </tr>\n",
              "    <tr>\n",
              "      <th>8</th>\n",
              "      <td>months</td>\n",
              "      <td>public records revealed After that</td>\n",
              "    </tr>\n",
              "  </tbody>\n",
              "</table>\n",
              "</div>\n",
              "      <button class=\"colab-df-convert\" onclick=\"convertToInteractive('df-09a9ed8f-1c68-4b66-9e00-9df8de8f0100')\"\n",
              "              title=\"Convert this dataframe to an interactive table.\"\n",
              "              style=\"display:none;\">\n",
              "        \n",
              "  <svg xmlns=\"http://www.w3.org/2000/svg\" height=\"24px\"viewBox=\"0 0 24 24\"\n",
              "       width=\"24px\">\n",
              "    <path d=\"M0 0h24v24H0V0z\" fill=\"none\"/>\n",
              "    <path d=\"M18.56 5.44l.94 2.06.94-2.06 2.06-.94-2.06-.94-.94-2.06-.94 2.06-2.06.94zm-11 1L8.5 8.5l.94-2.06 2.06-.94-2.06-.94L8.5 2.5l-.94 2.06-2.06.94zm10 10l.94 2.06.94-2.06 2.06-.94-2.06-.94-.94-2.06-.94 2.06-2.06.94z\"/><path d=\"M17.41 7.96l-1.37-1.37c-.4-.4-.92-.59-1.43-.59-.52 0-1.04.2-1.43.59L10.3 9.45l-7.72 7.72c-.78.78-.78 2.05 0 2.83L4 21.41c.39.39.9.59 1.41.59.51 0 1.02-.2 1.41-.59l7.78-7.78 2.81-2.81c.8-.78.8-2.07 0-2.86zM5.41 20L4 18.59l7.72-7.72 1.47 1.35L5.41 20z\"/>\n",
              "  </svg>\n",
              "      </button>\n",
              "      \n",
              "  <style>\n",
              "    .colab-df-container {\n",
              "      display:flex;\n",
              "      flex-wrap:wrap;\n",
              "      gap: 12px;\n",
              "    }\n",
              "\n",
              "    .colab-df-convert {\n",
              "      background-color: #E8F0FE;\n",
              "      border: none;\n",
              "      border-radius: 50%;\n",
              "      cursor: pointer;\n",
              "      display: none;\n",
              "      fill: #1967D2;\n",
              "      height: 32px;\n",
              "      padding: 0 0 0 0;\n",
              "      width: 32px;\n",
              "    }\n",
              "\n",
              "    .colab-df-convert:hover {\n",
              "      background-color: #E2EBFA;\n",
              "      box-shadow: 0px 1px 2px rgba(60, 64, 67, 0.3), 0px 1px 3px 1px rgba(60, 64, 67, 0.15);\n",
              "      fill: #174EA6;\n",
              "    }\n",
              "\n",
              "    [theme=dark] .colab-df-convert {\n",
              "      background-color: #3B4455;\n",
              "      fill: #D2E3FC;\n",
              "    }\n",
              "\n",
              "    [theme=dark] .colab-df-convert:hover {\n",
              "      background-color: #434B5C;\n",
              "      box-shadow: 0px 1px 3px 1px rgba(0, 0, 0, 0.15);\n",
              "      filter: drop-shadow(0px 1px 2px rgba(0, 0, 0, 0.3));\n",
              "      fill: #FFFFFF;\n",
              "    }\n",
              "  </style>\n",
              "\n",
              "      <script>\n",
              "        const buttonEl =\n",
              "          document.querySelector('#df-09a9ed8f-1c68-4b66-9e00-9df8de8f0100 button.colab-df-convert');\n",
              "        buttonEl.style.display =\n",
              "          google.colab.kernel.accessAllowed ? 'block' : 'none';\n",
              "\n",
              "        async function convertToInteractive(key) {\n",
              "          const element = document.querySelector('#df-09a9ed8f-1c68-4b66-9e00-9df8de8f0100');\n",
              "          const dataTable =\n",
              "            await google.colab.kernel.invokeFunction('convertToInteractive',\n",
              "                                                     [key], {});\n",
              "          if (!dataTable) return;\n",
              "\n",
              "          const docLinkHtml = 'Like what you see? Visit the ' +\n",
              "            '<a target=\"_blank\" href=https://colab.research.google.com/notebooks/data_table.ipynb>data table notebook</a>'\n",
              "            + ' to learn more about interactive tables.';\n",
              "          element.innerHTML = '';\n",
              "          dataTable['output_type'] = 'display_data';\n",
              "          await google.colab.output.renderOutput(dataTable, element);\n",
              "          const docLink = document.createElement('div');\n",
              "          docLink.innerHTML = docLinkHtml;\n",
              "          element.appendChild(docLink);\n",
              "        }\n",
              "      </script>\n",
              "    </div>\n",
              "  </div>\n",
              "  "
            ]
          },
          "metadata": {},
          "execution_count": 28
        }
      ]
    },
    {
      "cell_type": "markdown",
      "metadata": {
        "id": "DATiwcyoCWka"
      },
      "source": [
        "### BERT INITIATION"
      ]
    },
    {
      "cell_type": "code",
      "execution_count": null,
      "metadata": {
        "id": "TypN4cn8-KDU"
      },
      "outputs": [],
      "source": [
        "import tensorflow as tf\n",
        "\n",
        "device_name = tf.test.gpu_device_name()\n",
        "if device_name != '/device:GPU:0':\n",
        "  raise SystemError('GPU device not found')\n",
        "print('Found GPU at: {}'.format(device_name))"
      ]
    },
    {
      "cell_type": "code",
      "execution_count": 20,
      "metadata": {
        "id": "SNX04eCO-Xoy",
        "outputId": "e5850022-ac84-4a2e-c361-a73a8fd386e1",
        "colab": {
          "base_uri": "https://localhost:8080/",
          "height": 818
        }
      },
      "outputs": [
        {
          "output_type": "stream",
          "name": "stdout",
          "text": [
            "Looking in indexes: https://pypi.org/simple, https://us-python.pkg.dev/colab-wheels/public/simple/\n",
            "Collecting pytorch-pretrained-bert\n",
            "  Downloading pytorch_pretrained_bert-0.6.2-py3-none-any.whl (123 kB)\n",
            "\u001b[K     |████████████████████████████████| 123 kB 5.4 MB/s \n",
            "\u001b[?25hCollecting pytorch-nlp\n",
            "  Downloading pytorch_nlp-0.5.0-py3-none-any.whl (90 kB)\n",
            "\u001b[K     |████████████████████████████████| 90 kB 8.4 MB/s \n",
            "\u001b[?25hRequirement already satisfied: numpy in /usr/local/lib/python3.7/dist-packages (from pytorch-pretrained-bert) (1.21.6)\n",
            "Requirement already satisfied: tqdm in /usr/local/lib/python3.7/dist-packages (from pytorch-pretrained-bert) (4.64.1)\n",
            "Requirement already satisfied: requests in /usr/local/lib/python3.7/dist-packages (from pytorch-pretrained-bert) (2.23.0)\n",
            "Requirement already satisfied: torch>=0.4.1 in /usr/local/lib/python3.7/dist-packages (from pytorch-pretrained-bert) (1.12.1+cu113)\n",
            "Requirement already satisfied: regex in /usr/local/lib/python3.7/dist-packages (from pytorch-pretrained-bert) (2022.6.2)\n",
            "Collecting boto3\n",
            "  Downloading boto3-1.24.89-py3-none-any.whl (132 kB)\n",
            "\u001b[K     |████████████████████████████████| 132 kB 44.6 MB/s \n",
            "\u001b[?25hRequirement already satisfied: typing-extensions in /usr/local/lib/python3.7/dist-packages (from torch>=0.4.1->pytorch-pretrained-bert) (4.1.1)\n",
            "Collecting botocore<1.28.0,>=1.27.89\n",
            "  Downloading botocore-1.27.89-py3-none-any.whl (9.2 MB)\n",
            "\u001b[K     |████████████████████████████████| 9.2 MB 63.4 MB/s \n",
            "\u001b[?25hCollecting jmespath<2.0.0,>=0.7.1\n",
            "  Downloading jmespath-1.0.1-py3-none-any.whl (20 kB)\n",
            "Collecting s3transfer<0.7.0,>=0.6.0\n",
            "  Downloading s3transfer-0.6.0-py3-none-any.whl (79 kB)\n",
            "\u001b[K     |████████████████████████████████| 79 kB 8.1 MB/s \n",
            "\u001b[?25hCollecting urllib3<1.27,>=1.25.4\n",
            "  Downloading urllib3-1.26.12-py2.py3-none-any.whl (140 kB)\n",
            "\u001b[K     |████████████████████████████████| 140 kB 37.1 MB/s \n",
            "\u001b[?25hRequirement already satisfied: python-dateutil<3.0.0,>=2.1 in /usr/local/lib/python3.7/dist-packages (from botocore<1.28.0,>=1.27.89->boto3->pytorch-pretrained-bert) (2.8.2)\n",
            "Requirement already satisfied: six>=1.5 in /usr/local/lib/python3.7/dist-packages (from python-dateutil<3.0.0,>=2.1->botocore<1.28.0,>=1.27.89->boto3->pytorch-pretrained-bert) (1.15.0)\n",
            "Requirement already satisfied: certifi>=2017.4.17 in /usr/local/lib/python3.7/dist-packages (from requests->pytorch-pretrained-bert) (2022.9.24)\n",
            "Requirement already satisfied: idna<3,>=2.5 in /usr/local/lib/python3.7/dist-packages (from requests->pytorch-pretrained-bert) (2.10)\n",
            "Requirement already satisfied: chardet<4,>=3.0.2 in /usr/local/lib/python3.7/dist-packages (from requests->pytorch-pretrained-bert) (3.0.4)\n",
            "  Downloading urllib3-1.25.11-py2.py3-none-any.whl (127 kB)\n",
            "\u001b[K     |████████████████████████████████| 127 kB 56.7 MB/s \n",
            "\u001b[?25hInstalling collected packages: urllib3, jmespath, botocore, s3transfer, boto3, pytorch-pretrained-bert, pytorch-nlp\n",
            "  Attempting uninstall: urllib3\n",
            "    Found existing installation: urllib3 1.24.3\n",
            "    Uninstalling urllib3-1.24.3:\n",
            "      Successfully uninstalled urllib3-1.24.3\n",
            "Successfully installed boto3-1.24.89 botocore-1.27.89 jmespath-1.0.1 pytorch-nlp-0.5.0 pytorch-pretrained-bert-0.6.2 s3transfer-0.6.0 urllib3-1.25.11\n"
          ]
        },
        {
          "output_type": "display_data",
          "data": {
            "application/vnd.colab-display-data+json": {
              "pip_warning": {
                "packages": [
                  "urllib3"
                ]
              }
            }
          },
          "metadata": {}
        }
      ],
      "source": [
        "!pip install pytorch-pretrained-bert pytorch-nlp"
      ]
    },
    {
      "cell_type": "code",
      "execution_count": null,
      "metadata": {
        "id": "6sj24-oZ-ejN"
      },
      "outputs": [],
      "source": [
        "import torch\n",
        "from torch.utils.data import TensorDataset, DataLoader, RandomSampler, SequentialSampler\n",
        "from keras.preprocessing.sequence import pad_sequences\n",
        "from sklearn.model_selection import train_test_split\n",
        "from pytorch_pretrained_bert import BertTokenizer, BertConfig\n",
        "from pytorch_pretrained_bert import BertAdam, BertForSequenceClassification\n",
        "from tqdm import tqdm, trange\n",
        "import pandas as pd\n",
        "import io\n",
        "import numpy as np\n",
        "import matplotlib.pyplot as plt"
      ]
    },
    {
      "cell_type": "code",
      "execution_count": null,
      "metadata": {
        "id": "cwFykQa3-_5r"
      },
      "outputs": [],
      "source": [
        "device = torch.device(\"cuda\" if torch.cuda.is_available() else \"cpu\")\n",
        "n_gpu = torch.cuda.device_count()\n",
        "torch.cuda.get_device_name(0)"
      ]
    },
    {
      "cell_type": "markdown",
      "source": [
        "##BERT NER https://analyticsindiamag.com/how-to-perform-named-entity-recognition-ner-using-a-transformer/"
      ],
      "metadata": {
        "id": "ih8fQkYfoEdw"
      }
    },
    {
      "cell_type": "code",
      "source": [
        "pip install transformers"
      ],
      "metadata": {
        "id": "SGNAz0iNnuoB",
        "outputId": "bfc3c974-9c46-4749-fb98-fcc8dff00e3c",
        "colab": {
          "base_uri": "https://localhost:8080/"
        }
      },
      "execution_count": 1,
      "outputs": [
        {
          "output_type": "stream",
          "name": "stdout",
          "text": [
            "Looking in indexes: https://pypi.org/simple, https://us-python.pkg.dev/colab-wheels/public/simple/\n",
            "Collecting transformers\n",
            "  Downloading transformers-4.23.1-py3-none-any.whl (5.3 MB)\n",
            "\u001b[K     |████████████████████████████████| 5.3 MB 5.3 MB/s \n",
            "\u001b[?25hRequirement already satisfied: filelock in /usr/local/lib/python3.7/dist-packages (from transformers) (3.8.0)\n",
            "Requirement already satisfied: tqdm>=4.27 in /usr/local/lib/python3.7/dist-packages (from transformers) (4.64.1)\n",
            "Collecting tokenizers!=0.11.3,<0.14,>=0.11.1\n",
            "  Downloading tokenizers-0.13.1-cp37-cp37m-manylinux_2_17_x86_64.manylinux2014_x86_64.whl (7.6 MB)\n",
            "\u001b[K     |████████████████████████████████| 7.6 MB 28.4 MB/s \n",
            "\u001b[?25hRequirement already satisfied: numpy>=1.17 in /usr/local/lib/python3.7/dist-packages (from transformers) (1.21.6)\n",
            "Requirement already satisfied: pyyaml>=5.1 in /usr/local/lib/python3.7/dist-packages (from transformers) (6.0)\n",
            "Requirement already satisfied: requests in /usr/local/lib/python3.7/dist-packages (from transformers) (2.23.0)\n",
            "Requirement already satisfied: importlib-metadata in /usr/local/lib/python3.7/dist-packages (from transformers) (5.0.0)\n",
            "Requirement already satisfied: packaging>=20.0 in /usr/local/lib/python3.7/dist-packages (from transformers) (21.3)\n",
            "Collecting huggingface-hub<1.0,>=0.10.0\n",
            "  Downloading huggingface_hub-0.10.1-py3-none-any.whl (163 kB)\n",
            "\u001b[K     |████████████████████████████████| 163 kB 65.8 MB/s \n",
            "\u001b[?25hRequirement already satisfied: regex!=2019.12.17 in /usr/local/lib/python3.7/dist-packages (from transformers) (2022.6.2)\n",
            "Requirement already satisfied: typing-extensions>=3.7.4.3 in /usr/local/lib/python3.7/dist-packages (from huggingface-hub<1.0,>=0.10.0->transformers) (4.1.1)\n",
            "Requirement already satisfied: pyparsing!=3.0.5,>=2.0.2 in /usr/local/lib/python3.7/dist-packages (from packaging>=20.0->transformers) (3.0.9)\n",
            "Requirement already satisfied: zipp>=0.5 in /usr/local/lib/python3.7/dist-packages (from importlib-metadata->transformers) (3.9.0)\n",
            "Requirement already satisfied: chardet<4,>=3.0.2 in /usr/local/lib/python3.7/dist-packages (from requests->transformers) (3.0.4)\n",
            "Requirement already satisfied: urllib3!=1.25.0,!=1.25.1,<1.26,>=1.21.1 in /usr/local/lib/python3.7/dist-packages (from requests->transformers) (1.24.3)\n",
            "Requirement already satisfied: certifi>=2017.4.17 in /usr/local/lib/python3.7/dist-packages (from requests->transformers) (2022.9.24)\n",
            "Requirement already satisfied: idna<3,>=2.5 in /usr/local/lib/python3.7/dist-packages (from requests->transformers) (2.10)\n",
            "Installing collected packages: tokenizers, huggingface-hub, transformers\n",
            "Successfully installed huggingface-hub-0.10.1 tokenizers-0.13.1 transformers-4.23.1\n"
          ]
        }
      ]
    },
    {
      "cell_type": "markdown",
      "source": [
        "https://github.com/satya77/Transformer_Temporal_Tagger"
      ],
      "metadata": {
        "id": "e2t4rkyDsydm"
      }
    },
    {
      "cell_type": "code",
      "source": [
        "from transformers import AutoTokenizer, AutoModelForTokenClassification, BertForTokenClassification, EncoderDecoderModel\n",
        "from transformers import pipeline"
      ],
      "metadata": {
        "id": "MXiz_iYVn9f2"
      },
      "execution_count": 13,
      "outputs": []
    },
    {
      "cell_type": "code",
      "source": [
        "tokenizer = AutoTokenizer.from_pretrained(\"satyaalmasian/temporal_tagger_roberta2roberta\")\n",
        "model = EncoderDecoderModel.from_pretrained(\"satyaalmasian/temporal_tagger_roberta2roberta\")"
      ],
      "metadata": {
        "id": "OHlxren2oA32"
      },
      "execution_count": 18,
      "outputs": []
    },
    {
      "cell_type": "code",
      "source": [
        "ARTICLE_TO_SUMMARIZE = (raw_text)"
      ],
      "metadata": {
        "id": "dFgAArnOpnsK"
      },
      "execution_count": 77,
      "outputs": []
    },
    {
      "cell_type": "code",
      "source": [
        "input_ids = tokenizer(ARTICLE_TO_SUMMARIZE, return_tensors=\"pt\").input_ids\n",
        "generated_ids = model.generate(input_ids)\n",
        "generated_text = tokenizer.batch_decode(generated_ids, skip_special_tokens=True)[0]\n",
        "print(generated_text)"
      ],
      "metadata": {
        "id": "b4cpngw2qTMg",
        "outputId": "353e0b87-f8ca-4aad-e686-91548f7bd582",
        "colab": {
          "base_uri": "https://localhost:8080/"
        }
      },
      "execution_count": 78,
      "outputs": [
        {
          "output_type": "stream",
          "name": "stderr",
          "text": [
            "/usr/local/lib/python3.7/dist-packages/transformers/generation_utils.py:1301: UserWarning: Neither `max_length` nor `max_new_tokens` has been set, `max_length` will default to 512 (`self.config.max_length`). Controlling `max_length` via the config is deprecated and `max_length` will be removed from the config in v5 of Transformers -- we recommend using `max_new_tokens` to control the maximum length of the generation.\n",
            "  UserWarning,\n"
          ]
        },
        {
          "output_type": "stream",
          "name": "stdout",
          "text": [
            "04.10.2022 Tesla shares dropped nearly 16% during what CEO Elon Musk called a “very intense  <timex3 type=\"DURATION\" value=\"P7D\"> 7 days </timeX3>  indeed” to one of his 108 million followers on Twitter.Tesla shares closed at $265.25 on  than  (<time x3 scale. 25, Sept. At market’s close one week later, Elon shares were trading at$223.07, a decline of nearly 160%. It was the worst week for the stock since Mar. 2020, when the Covid-19 pandemic began to grip the U.S., shutting down businesses and public life. Over the weekend, Tesla reported electric vehicle production and delivery numbers that did not meet analysts‘ expectations. On  Mr thought to stir up a political firestorm by opining about how he thought Russia‧s brutal invasion of Ukraine should be resolved. After that, public records revealed that Musk had informed the Delaware Chancery Court that he would complete a $44 billion acquisition of Twitter in 10/10/20 22 <timeXX-10-20\"> 10 </ timex5>, a deal he had been trying to evade for months.\n"
          ]
        }
      ]
    },
    {
      "cell_type": "markdown",
      "metadata": {
        "id": "jyr3tYEDgsCa"
      },
      "source": [
        "## ARCHIVE CODES"
      ]
    },
    {
      "cell_type": "code",
      "execution_count": null,
      "metadata": {
        "id": "5LzFwyFSBWe0"
      },
      "outputs": [],
      "source": [
        "#skip\n",
        " \n",
        "sentence = \"Tesla shares dropped nearly 16% during what CEO Elon Musk called a “very intense 7 days indeed” to one of his 108 million followers on Twitter. Tesla shares closed at $265.25 on Friday, Sept. 30. At market’s close one week later, Tesla shares were trading at $223.07, a decline of nearly 16%. It was the worst week for the stock since Mar. 2020, when the Covid-19 pandemic began to grip the U.S., shutting down businesses and public life. Over the weekend, Tesla reported electric vehicle production and delivery numbers that did not meet analysts’ expectations. On Monday, Musk proceeded to stir up a political firestorm by opining about how he thought Russia’s brutal invasion of Ukraine should be resolved. After that, public records revealed that Musk had informed the Delaware Chancery Court that he would complete a $44 billion acquisition of Twitter in October, a deal he had been trying to evade for months.\"\n",
        "x=' '\n",
        "doc=nlp(sentence)\n",
        "print(f\"\\033[1mText{x*22}Label{x*11}\\033[0m\")\n",
        "for entities in doc.ents:\n",
        "  if entities.label_ == \"DATE\":\n",
        "    print(f\"{entities.text:<25} {entities.label_:<15}\")"
      ]
    },
    {
      "cell_type": "code",
      "execution_count": null,
      "metadata": {
        "id": "zY1zS-0hguFB"
      },
      "outputs": [],
      "source": [
        "# Step Three: Load Data & Temporal Extraction\n",
        "raw_text = '2022.07.01 Tesla shares dropped nearly 16% during what CEO Elon Musk called a “very intense 7 days indeed” to one of his 108 million followers on Twitter. Tesla shares closed at $265.25 on Friday, Sept. 30. At market’s close one week later, Tesla shares were trading at $223.07, a decline of nearly 16%. It was the worst week for the stock since Mar. 2020, when the Covid-19 pandemic began to grip the U.S., shutting down businesses and public life. Over the weekend, Tesla reported electric vehicle production and delivery numbers that did not meet analysts’ expectations. On Monday, Musk proceeded to stir up a political firestorm by opining about how he thought Russia’s brutal invasion of Ukraine should be resolved. After that, public records revealed that Musk had informed the Delaware Chancery Court that he would complete a $44 billion acquisition of Twitter in 10/10/2022 October, a deal he had been trying to evade for months.'\n",
        "doc = nlp(raw_text)\n",
        "sentences = [sent.text.strip() for sent in doc.sents]\n",
        "print(f\"\\033[1mSentence{x*250}Date{x*22}RDate{x*22}\\033[0m\")\n",
        "regEx1 = r'(?:\\d{1,2}[-/th|st|nd|rd\\s]*)?(?:Jan|Feb|Mar|Apr|May|Jun|Jul|Aug|Sep|Oct|Nov|Dec)[a-z\\s,.]*(?:\\d{1,2}[-/th|st|nd|rd)\\s,]*)?(?:\\d{2,4})'\n",
        "regEx2 = r'(\\d{2,4})[\\.\\/\\-](0[1-9]|1[012])[\\.\\/\\-](\\d{2,4})'\n",
        "for s in sentences:\n",
        "  doc=nlp(s)\n",
        "  datef1=re.findall(regEx1, s)\n",
        "  datef2=re.findall(regEx2, s)\n",
        "  for entities in doc.ents:\n",
        "    if entities.label_ == \"DATE\":\n",
        "      print(f\"{s:<250} {entities.text:<22} \")\n",
        "      print(datef1)\n",
        "      print(datef2)"
      ]
    },
    {
      "cell_type": "code",
      "execution_count": null,
      "metadata": {
        "id": "TPIpZnA7Lf2g"
      },
      "outputs": [],
      "source": [
        "regEx1 = r'(?:\\d{1,2}[-/th|st|nd|rd\\s]*)?(?:Jan|Feb|Mar|Apr|May|Jun|Jul|Aug|Sep|Oct|Nov|Dec)[a-z\\s,.]*(?:\\d{1,2}[-/th|st|nd|rd)\\s,]*)?(?:\\d{2,4})'\n",
        "for s in sentences:\n",
        "  new=re.findall(regEx1, s)\n",
        "  print(new)\n",
        "\n",
        "regEx2 = r'(\\d{2,4})[\\.\\/\\-](0[1-9]|1[012])[\\.\\/\\-](\\d{2,4})'\n",
        "for s in sentences:\n",
        "  new=re.findall(regEx2, s)\n",
        "  print(new)\n"
      ]
    },
    {
      "cell_type": "markdown",
      "source": [
        "https://github.com/mmxgn/spacy-clausie"
      ],
      "metadata": {
        "id": "uvAYl5Y81S1R"
      }
    },
    {
      "cell_type": "code",
      "source": [
        "!pip install git+https://github.com/mmxgn/spacy-clausie.git\n",
        "import claucy   \n",
        "claucy.add_to_pipe(nlp)   "
      ],
      "metadata": {
        "id": "Xt2D3HWv1R7I",
        "outputId": "c7eaa423-9732-45bc-fa42-4d3143e5c0e9",
        "colab": {
          "base_uri": "https://localhost:8080/"
        }
      },
      "execution_count": 63,
      "outputs": [
        {
          "output_type": "stream",
          "name": "stdout",
          "text": [
            "Looking in indexes: https://pypi.org/simple, https://us-python.pkg.dev/colab-wheels/public/simple/\n",
            "Collecting git+https://github.com/mmxgn/spacy-clausie.git\n",
            "  Cloning https://github.com/mmxgn/spacy-clausie.git to /tmp/pip-req-build-qp2xwav0\n",
            "  Running command git clone -q https://github.com/mmxgn/spacy-clausie.git /tmp/pip-req-build-qp2xwav0\n",
            "Requirement already satisfied: spacy>=3.0.0 in /usr/local/lib/python3.7/dist-packages (from claucy==0.0.2.0) (3.4.1)\n",
            "Requirement already satisfied: lemminflect>=0.2.1 in /usr/local/lib/python3.7/dist-packages (from claucy==0.0.2.0) (0.2.3)\n",
            "Requirement already satisfied: numpy in /usr/local/lib/python3.7/dist-packages (from lemminflect>=0.2.1->claucy==0.0.2.0) (1.21.6)\n",
            "Requirement already satisfied: murmurhash<1.1.0,>=0.28.0 in /usr/local/lib/python3.7/dist-packages (from spacy>=3.0.0->claucy==0.0.2.0) (1.0.8)\n",
            "Requirement already satisfied: pydantic!=1.8,!=1.8.1,<1.10.0,>=1.7.4 in /usr/local/lib/python3.7/dist-packages (from spacy>=3.0.0->claucy==0.0.2.0) (1.9.2)\n",
            "Requirement already satisfied: cymem<2.1.0,>=2.0.2 in /usr/local/lib/python3.7/dist-packages (from spacy>=3.0.0->claucy==0.0.2.0) (2.0.6)\n",
            "Requirement already satisfied: srsly<3.0.0,>=2.4.3 in /usr/local/lib/python3.7/dist-packages (from spacy>=3.0.0->claucy==0.0.2.0) (2.4.4)\n",
            "Requirement already satisfied: spacy-legacy<3.1.0,>=3.0.9 in /usr/local/lib/python3.7/dist-packages (from spacy>=3.0.0->claucy==0.0.2.0) (3.0.10)\n",
            "Requirement already satisfied: preshed<3.1.0,>=3.0.2 in /usr/local/lib/python3.7/dist-packages (from spacy>=3.0.0->claucy==0.0.2.0) (3.0.7)\n",
            "Requirement already satisfied: jinja2 in /usr/local/lib/python3.7/dist-packages (from spacy>=3.0.0->claucy==0.0.2.0) (2.11.3)\n",
            "Requirement already satisfied: thinc<8.2.0,>=8.1.0 in /usr/local/lib/python3.7/dist-packages (from spacy>=3.0.0->claucy==0.0.2.0) (8.1.3)\n",
            "Requirement already satisfied: typer<0.5.0,>=0.3.0 in /usr/local/lib/python3.7/dist-packages (from spacy>=3.0.0->claucy==0.0.2.0) (0.4.2)\n",
            "Requirement already satisfied: spacy-loggers<2.0.0,>=1.0.0 in /usr/local/lib/python3.7/dist-packages (from spacy>=3.0.0->claucy==0.0.2.0) (1.0.3)\n",
            "Requirement already satisfied: pathy>=0.3.5 in /usr/local/lib/python3.7/dist-packages (from spacy>=3.0.0->claucy==0.0.2.0) (0.6.2)\n",
            "Requirement already satisfied: catalogue<2.1.0,>=2.0.6 in /usr/local/lib/python3.7/dist-packages (from spacy>=3.0.0->claucy==0.0.2.0) (2.0.8)\n",
            "Requirement already satisfied: langcodes<4.0.0,>=3.2.0 in /usr/local/lib/python3.7/dist-packages (from spacy>=3.0.0->claucy==0.0.2.0) (3.3.0)\n",
            "Requirement already satisfied: requests<3.0.0,>=2.13.0 in /usr/local/lib/python3.7/dist-packages (from spacy>=3.0.0->claucy==0.0.2.0) (2.23.0)\n",
            "Requirement already satisfied: typing-extensions<4.2.0,>=3.7.4 in /usr/local/lib/python3.7/dist-packages (from spacy>=3.0.0->claucy==0.0.2.0) (4.1.1)\n",
            "Requirement already satisfied: wasabi<1.1.0,>=0.9.1 in /usr/local/lib/python3.7/dist-packages (from spacy>=3.0.0->claucy==0.0.2.0) (0.10.1)\n",
            "Requirement already satisfied: packaging>=20.0 in /usr/local/lib/python3.7/dist-packages (from spacy>=3.0.0->claucy==0.0.2.0) (21.3)\n",
            "Requirement already satisfied: setuptools in /usr/local/lib/python3.7/dist-packages (from spacy>=3.0.0->claucy==0.0.2.0) (57.4.0)\n",
            "Requirement already satisfied: tqdm<5.0.0,>=4.38.0 in /usr/local/lib/python3.7/dist-packages (from spacy>=3.0.0->claucy==0.0.2.0) (4.64.1)\n",
            "Requirement already satisfied: zipp>=0.5 in /usr/local/lib/python3.7/dist-packages (from catalogue<2.1.0,>=2.0.6->spacy>=3.0.0->claucy==0.0.2.0) (3.9.0)\n",
            "Requirement already satisfied: pyparsing!=3.0.5,>=2.0.2 in /usr/local/lib/python3.7/dist-packages (from packaging>=20.0->spacy>=3.0.0->claucy==0.0.2.0) (3.0.9)\n",
            "Requirement already satisfied: smart-open<6.0.0,>=5.2.1 in /usr/local/lib/python3.7/dist-packages (from pathy>=0.3.5->spacy>=3.0.0->claucy==0.0.2.0) (5.2.1)\n",
            "Requirement already satisfied: urllib3!=1.25.0,!=1.25.1,<1.26,>=1.21.1 in /usr/local/lib/python3.7/dist-packages (from requests<3.0.0,>=2.13.0->spacy>=3.0.0->claucy==0.0.2.0) (1.25.11)\n",
            "Requirement already satisfied: certifi>=2017.4.17 in /usr/local/lib/python3.7/dist-packages (from requests<3.0.0,>=2.13.0->spacy>=3.0.0->claucy==0.0.2.0) (2022.9.24)\n",
            "Requirement already satisfied: chardet<4,>=3.0.2 in /usr/local/lib/python3.7/dist-packages (from requests<3.0.0,>=2.13.0->spacy>=3.0.0->claucy==0.0.2.0) (3.0.4)\n",
            "Requirement already satisfied: idna<3,>=2.5 in /usr/local/lib/python3.7/dist-packages (from requests<3.0.0,>=2.13.0->spacy>=3.0.0->claucy==0.0.2.0) (2.10)\n",
            "Requirement already satisfied: confection<1.0.0,>=0.0.1 in /usr/local/lib/python3.7/dist-packages (from thinc<8.2.0,>=8.1.0->spacy>=3.0.0->claucy==0.0.2.0) (0.0.3)\n",
            "Requirement already satisfied: blis<0.8.0,>=0.7.8 in /usr/local/lib/python3.7/dist-packages (from thinc<8.2.0,>=8.1.0->spacy>=3.0.0->claucy==0.0.2.0) (0.7.8)\n",
            "Requirement already satisfied: click<9.0.0,>=7.1.1 in /usr/local/lib/python3.7/dist-packages (from typer<0.5.0,>=0.3.0->spacy>=3.0.0->claucy==0.0.2.0) (7.1.2)\n",
            "Requirement already satisfied: MarkupSafe>=0.23 in /usr/local/lib/python3.7/dist-packages (from jinja2->spacy>=3.0.0->claucy==0.0.2.0) (2.0.1)\n"
          ]
        }
      ]
    },
    {
      "cell_type": "code",
      "source": [
        "for ent in filter(lambda e: e.label_=='DATE',doc.ents):\n",
        "  doc = nlp(raw_text)\n",
        "  doc._.clauses "
      ],
      "metadata": {
        "id": "FtP3nMkn15Ui"
      },
      "execution_count": 65,
      "outputs": []
    }
  ],
  "metadata": {
    "colab": {
      "provenance": [],
      "include_colab_link": true
    },
    "kernelspec": {
      "display_name": "Python 3.10.7 64-bit (microsoft store)",
      "language": "python",
      "name": "python3"
    },
    "language_info": {
      "codemirror_mode": {
        "name": "ipython",
        "version": 3
      },
      "file_extension": ".py",
      "mimetype": "text/x-python",
      "name": "python",
      "nbconvert_exporter": "python",
      "pygments_lexer": "ipython3",
      "version": "3.10.7"
    },
    "vscode": {
      "interpreter": {
        "hash": "6d37efe8b5696e020ff20f03281d74432cd5b58f0d8f4efefd34ea302a90c8b3"
      }
    }
  },
  "nbformat": 4,
  "nbformat_minor": 0
}