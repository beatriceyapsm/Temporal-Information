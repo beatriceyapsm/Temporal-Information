{
  "cells": [
    {
      "cell_type": "markdown",
      "metadata": {
        "id": "view-in-github",
        "colab_type": "text"
      },
      "source": [
        "<a href=\"https://colab.research.google.com/github/beatriceyapsm/temporaltest/blob/main/20221014%20TEST.ipynb\" target=\"_parent\"><img src=\"https://colab.research.google.com/assets/colab-badge.svg\" alt=\"Open In Colab\"/></a>"
      ]
    },
    {
      "cell_type": "markdown",
      "metadata": {
        "id": "YpN4LgeNSCdn"
      },
      "source": [
        "####Import Python Libraries and Define Global Variables"
      ]
    },
    {
      "cell_type": "code",
      "execution_count": 1,
      "metadata": {
        "id": "BD5AQdxpfZo5"
      },
      "outputs": [],
      "source": [
        "\n",
        "#Import Pandas and Numpy Python Libraries\n",
        "import pandas as pd        #data analysis and manipulation library for Python\n",
        "import numpy as np         #mathematical operations over arrays\n",
        "\n",
        "#Global variables\n",
        "train_data = []            #sentence for training with labels \n",
        "train_target = []          #labels for training data\n",
        "test_data = []             #sentence for testing with labels  \n",
        "test_target = []           #labels for testing data"
      ]
    },
    {
      "cell_type": "markdown",
      "metadata": {
        "id": "bqkeBYJafZo6"
      },
      "source": [
        "#### Create data frames"
      ]
    },
    {
      "cell_type": "code",
      "execution_count": 2,
      "metadata": {
        "id": "SN8fL2lUfZo7"
      },
      "outputs": [],
      "source": [
        "#Import files into a dataframe\n",
        "def import_text(file_txt):\n",
        "    \n",
        "    colnames=['ID', 'Text'] \n",
        "    \n",
        "    df = pd.read_csv(file_txt\n",
        "                       ,skip_blank_lines=True   #input files have emplty lines\n",
        "                       ,header=None             #no haeders\n",
        "                       ,sep='\\t'                #tab delimited\n",
        "                       ,engine='python'         #engine\n",
        "                       ,quotechar='^'           #if there are doublequotes in the text\n",
        "                       ,comment='Comment:'      #this is for human reader, we don't need\n",
        "                       ,names=colnames          #preset columns we need\n",
        "                      )\n",
        "    print(\"Number of rows: \", len(df.index))\n",
        "\n",
        "    return df"
      ]
    },
    {
      "cell_type": "code",
      "execution_count": 3,
      "metadata": {
        "id": "BhAy3P2nfZo7"
      },
      "outputs": [],
      "source": [
        "#clean \"\"\n",
        "def clean_doublequotes(df):\n",
        "    return df.replace('\"', '', regex=True)"
      ]
    },
    {
      "cell_type": "code",
      "execution_count": 4,
      "metadata": {
        "id": "uz1oF_NEk0we"
      },
      "outputs": [],
      "source": [
        "#BEATRICE replace all other classifications with \"Other\"//so we do not lose these samples\n",
        "def clean_class(df):\n",
        "    \n",
        "    return df.replace(regex=['Product-Producer','Entity-Origin','Instrument-Agency','Component-Whole','Content-Container','Entity-Destination','Member-Collection','Message-Topic'], value='Other')"
      ]
    },
    {
      "cell_type": "code",
      "execution_count": 5,
      "metadata": {
        "id": "3DutIS0WfZo8"
      },
      "outputs": [],
      "source": [
        "#clean tags e.g. (e2,e1) - to check why?\n",
        "def clean_tags(df_column,braket_type):\n",
        "    \n",
        "    if braket_type == 'angle':\n",
        "        pattern = r'<.*?>'\n",
        "    elif braket_type == 'round':\n",
        "        pattern = r'(\\(.*?\\))'\n",
        "    else:\n",
        "        raise Exception(\"angle or round\")\n",
        "    \n",
        "    return df_column.str.replace(pattern, '', regex=True)"
      ]
    },
    {
      "cell_type": "code",
      "execution_count": 6,
      "metadata": {
        "id": "nUvdTWnpfZo8"
      },
      "outputs": [],
      "source": [
        "#create tuple of keys\n",
        "keys = ('Other','Cause-Effect')\n",
        "#keys = ('Other','Cause-Effect','Product-Producer','Entity-Origin','Instrument-Agency','Component-Whole','Content-Container','Entity-Destination','Member-Collection','Message-Topic')\n",
        "#for i in range(len(keys)): print(i, keys[i])"
      ]
    },
    {
      "cell_type": "code",
      "execution_count": 7,
      "metadata": {
        "id": "aPhAUC3sfZo9"
      },
      "outputs": [],
      "source": [
        "def prepare_file(file_name,use):\n",
        "    \n",
        "    #Import training file into a dataframe\n",
        "    df = import_text(file_name)\n",
        "\n",
        "    #clean \"\"\n",
        "    df = clean_doublequotes(df)\n",
        "\n",
        "    #BEATRICE make binary\n",
        "    df = clean_class(df)\n",
        "\n",
        "    # combine rows 1&2\n",
        "    df['Clasification'] = df['ID'].shift(-1)\n",
        "\n",
        "    #remove leftover rows\n",
        "    df = df[df.Text.notna()]\n",
        "\n",
        "    #clean tags e.g. <e2> - better option would be to keep them and use for more precise prediction\n",
        "    df.Text = clean_tags(df.Text,braket_type='angle')\n",
        "\n",
        "    #clean tags e.g. (e2,e1) - better option would be to keep them and use for more precise prediction\n",
        "    df.Clasification = clean_tags(df.Clasification,braket_type='round')\n",
        "\n",
        "    #Map Keys to numbers\n",
        "    df['Clasification_ID'] = df.Clasification.map(lambda x: keys.index(x))\n",
        "\n",
        "    #to use in thes same file\n",
        "    if use == 'train':\n",
        "        global train_data\n",
        "        train_data = df.Text\n",
        "        \n",
        "        global train_target\n",
        "        train_target = df.Clasification_ID\n",
        "    elif use == 'test':\n",
        "        global test_data\n",
        "        test_data = df.Text\n",
        "        \n",
        "        global test_target\n",
        "        test_target = df.Clasification_ID\n",
        "\n",
        "    #check\n",
        "    print('Output rows:', len(df.index))\n",
        "  \n",
        "    return df"
      ]
    },
    {
      "cell_type": "markdown",
      "metadata": {
        "id": "phU_rFKmfZo-"
      },
      "source": [
        "#### Prepare Training file"
      ]
    },
    {
      "cell_type": "code",
      "execution_count": 8,
      "metadata": {
        "colab": {
          "base_uri": "https://localhost:8080/"
        },
        "id": "UZxmGdnAifwX",
        "outputId": "d52ca88d-1aec-4d4e-f803-af3d5ce4e6dd"
      },
      "outputs": [
        {
          "output_type": "stream",
          "name": "stdout",
          "text": [
            "Mounted at /content/drive\n"
          ]
        }
      ],
      "source": [
        "from google.colab import drive\n",
        "drive.mount('/content/drive')"
      ]
    },
    {
      "cell_type": "code",
      "execution_count": 9,
      "metadata": {
        "colab": {
          "base_uri": "https://localhost:8080/"
        },
        "id": "R4a-XXTOi3MU",
        "outputId": "f5b7f98f-806f-4b8c-abfc-a1ed27f94113"
      },
      "outputs": [
        {
          "output_type": "stream",
          "name": "stdout",
          "text": [
            "/content/drive/MyDrive/Github/Group-9C-Capstone\n"
          ]
        }
      ],
      "source": [
        "%cd /content/drive/MyDrive/Github/Group-9C-Capstone"
      ]
    },
    {
      "cell_type": "code",
      "execution_count": 10,
      "metadata": {
        "colab": {
          "base_uri": "https://localhost:8080/",
          "height": 241
        },
        "id": "gfCrY1xafZo-",
        "outputId": "37818964-7936-42ea-eb1b-2edb41042ce2"
      },
      "outputs": [
        {
          "output_type": "stream",
          "name": "stdout",
          "text": [
            "Number of rows:  16000\n",
            "Output rows: 8000\n"
          ]
        },
        {
          "output_type": "execute_result",
          "data": {
            "text/plain": [
              "  ID                                               Text Clasification  \\\n",
              "0  1  The system as described above has its greatest...         Other   \n",
              "2  2  The child was carefully wrapped and bound into...         Other   \n",
              "4  3  The author of a keygen uses a disassembler to ...         Other   \n",
              "6  4              A misty ridge uprises from the surge.         Other   \n",
              "8  5  The student association is the voice of the un...         Other   \n",
              "\n",
              "   Clasification_ID  \n",
              "0                 0  \n",
              "2                 0  \n",
              "4                 0  \n",
              "6                 0  \n",
              "8                 0  "
            ],
            "text/html": [
              "\n",
              "  <div id=\"df-9826bbc9-ea77-4140-bddb-3e2f75bc9b3a\">\n",
              "    <div class=\"colab-df-container\">\n",
              "      <div>\n",
              "<style scoped>\n",
              "    .dataframe tbody tr th:only-of-type {\n",
              "        vertical-align: middle;\n",
              "    }\n",
              "\n",
              "    .dataframe tbody tr th {\n",
              "        vertical-align: top;\n",
              "    }\n",
              "\n",
              "    .dataframe thead th {\n",
              "        text-align: right;\n",
              "    }\n",
              "</style>\n",
              "<table border=\"1\" class=\"dataframe\">\n",
              "  <thead>\n",
              "    <tr style=\"text-align: right;\">\n",
              "      <th></th>\n",
              "      <th>ID</th>\n",
              "      <th>Text</th>\n",
              "      <th>Clasification</th>\n",
              "      <th>Clasification_ID</th>\n",
              "    </tr>\n",
              "  </thead>\n",
              "  <tbody>\n",
              "    <tr>\n",
              "      <th>0</th>\n",
              "      <td>1</td>\n",
              "      <td>The system as described above has its greatest...</td>\n",
              "      <td>Other</td>\n",
              "      <td>0</td>\n",
              "    </tr>\n",
              "    <tr>\n",
              "      <th>2</th>\n",
              "      <td>2</td>\n",
              "      <td>The child was carefully wrapped and bound into...</td>\n",
              "      <td>Other</td>\n",
              "      <td>0</td>\n",
              "    </tr>\n",
              "    <tr>\n",
              "      <th>4</th>\n",
              "      <td>3</td>\n",
              "      <td>The author of a keygen uses a disassembler to ...</td>\n",
              "      <td>Other</td>\n",
              "      <td>0</td>\n",
              "    </tr>\n",
              "    <tr>\n",
              "      <th>6</th>\n",
              "      <td>4</td>\n",
              "      <td>A misty ridge uprises from the surge.</td>\n",
              "      <td>Other</td>\n",
              "      <td>0</td>\n",
              "    </tr>\n",
              "    <tr>\n",
              "      <th>8</th>\n",
              "      <td>5</td>\n",
              "      <td>The student association is the voice of the un...</td>\n",
              "      <td>Other</td>\n",
              "      <td>0</td>\n",
              "    </tr>\n",
              "  </tbody>\n",
              "</table>\n",
              "</div>\n",
              "      <button class=\"colab-df-convert\" onclick=\"convertToInteractive('df-9826bbc9-ea77-4140-bddb-3e2f75bc9b3a')\"\n",
              "              title=\"Convert this dataframe to an interactive table.\"\n",
              "              style=\"display:none;\">\n",
              "        \n",
              "  <svg xmlns=\"http://www.w3.org/2000/svg\" height=\"24px\"viewBox=\"0 0 24 24\"\n",
              "       width=\"24px\">\n",
              "    <path d=\"M0 0h24v24H0V0z\" fill=\"none\"/>\n",
              "    <path d=\"M18.56 5.44l.94 2.06.94-2.06 2.06-.94-2.06-.94-.94-2.06-.94 2.06-2.06.94zm-11 1L8.5 8.5l.94-2.06 2.06-.94-2.06-.94L8.5 2.5l-.94 2.06-2.06.94zm10 10l.94 2.06.94-2.06 2.06-.94-2.06-.94-.94-2.06-.94 2.06-2.06.94z\"/><path d=\"M17.41 7.96l-1.37-1.37c-.4-.4-.92-.59-1.43-.59-.52 0-1.04.2-1.43.59L10.3 9.45l-7.72 7.72c-.78.78-.78 2.05 0 2.83L4 21.41c.39.39.9.59 1.41.59.51 0 1.02-.2 1.41-.59l7.78-7.78 2.81-2.81c.8-.78.8-2.07 0-2.86zM5.41 20L4 18.59l7.72-7.72 1.47 1.35L5.41 20z\"/>\n",
              "  </svg>\n",
              "      </button>\n",
              "      \n",
              "  <style>\n",
              "    .colab-df-container {\n",
              "      display:flex;\n",
              "      flex-wrap:wrap;\n",
              "      gap: 12px;\n",
              "    }\n",
              "\n",
              "    .colab-df-convert {\n",
              "      background-color: #E8F0FE;\n",
              "      border: none;\n",
              "      border-radius: 50%;\n",
              "      cursor: pointer;\n",
              "      display: none;\n",
              "      fill: #1967D2;\n",
              "      height: 32px;\n",
              "      padding: 0 0 0 0;\n",
              "      width: 32px;\n",
              "    }\n",
              "\n",
              "    .colab-df-convert:hover {\n",
              "      background-color: #E2EBFA;\n",
              "      box-shadow: 0px 1px 2px rgba(60, 64, 67, 0.3), 0px 1px 3px 1px rgba(60, 64, 67, 0.15);\n",
              "      fill: #174EA6;\n",
              "    }\n",
              "\n",
              "    [theme=dark] .colab-df-convert {\n",
              "      background-color: #3B4455;\n",
              "      fill: #D2E3FC;\n",
              "    }\n",
              "\n",
              "    [theme=dark] .colab-df-convert:hover {\n",
              "      background-color: #434B5C;\n",
              "      box-shadow: 0px 1px 3px 1px rgba(0, 0, 0, 0.15);\n",
              "      filter: drop-shadow(0px 1px 2px rgba(0, 0, 0, 0.3));\n",
              "      fill: #FFFFFF;\n",
              "    }\n",
              "  </style>\n",
              "\n",
              "      <script>\n",
              "        const buttonEl =\n",
              "          document.querySelector('#df-9826bbc9-ea77-4140-bddb-3e2f75bc9b3a button.colab-df-convert');\n",
              "        buttonEl.style.display =\n",
              "          google.colab.kernel.accessAllowed ? 'block' : 'none';\n",
              "\n",
              "        async function convertToInteractive(key) {\n",
              "          const element = document.querySelector('#df-9826bbc9-ea77-4140-bddb-3e2f75bc9b3a');\n",
              "          const dataTable =\n",
              "            await google.colab.kernel.invokeFunction('convertToInteractive',\n",
              "                                                     [key], {});\n",
              "          if (!dataTable) return;\n",
              "\n",
              "          const docLinkHtml = 'Like what you see? Visit the ' +\n",
              "            '<a target=\"_blank\" href=https://colab.research.google.com/notebooks/data_table.ipynb>data table notebook</a>'\n",
              "            + ' to learn more about interactive tables.';\n",
              "          element.innerHTML = '';\n",
              "          dataTable['output_type'] = 'display_data';\n",
              "          await google.colab.output.renderOutput(dataTable, element);\n",
              "          const docLink = document.createElement('div');\n",
              "          docLink.innerHTML = docLinkHtml;\n",
              "          element.appendChild(docLink);\n",
              "        }\n",
              "      </script>\n",
              "    </div>\n",
              "  </div>\n",
              "  "
            ]
          },
          "metadata": {},
          "execution_count": 10
        }
      ],
      "source": [
        "#prepare file\n",
        "df_train = prepare_file('semeval2010task8_train.txt','train')\n",
        "\n",
        "df_train.head(5)"
      ]
    },
    {
      "cell_type": "code",
      "execution_count": 11,
      "metadata": {
        "colab": {
          "base_uri": "https://localhost:8080/",
          "height": 241
        },
        "id": "jAKtE8LKfZo_",
        "outputId": "fc12b37b-653b-4f38-cb4b-dca26330ff7b"
      },
      "outputs": [
        {
          "output_type": "stream",
          "name": "stdout",
          "text": [
            "Number of rows:  5434\n",
            "Output rows: 2717\n"
          ]
        },
        {
          "output_type": "execute_result",
          "data": {
            "text/plain": [
              "     ID                                               Text Clasification  \\\n",
              "0  8001  The most common audits were about waste and re...         Other   \n",
              "2  8002             The company fabricates plastic chairs.         Other   \n",
              "4  8003  The school master teaches the lesson with a st...         Other   \n",
              "6  8004  The suspect dumped the dead body into a local ...         Other   \n",
              "8  8005  Avian influenza is an infectious disease of bi...  Cause-Effect   \n",
              "\n",
              "   Clasification_ID  \n",
              "0                 0  \n",
              "2                 0  \n",
              "4                 0  \n",
              "6                 0  \n",
              "8                 1  "
            ],
            "text/html": [
              "\n",
              "  <div id=\"df-25102ee9-63cd-432b-a6c3-0cb1ea417bd0\">\n",
              "    <div class=\"colab-df-container\">\n",
              "      <div>\n",
              "<style scoped>\n",
              "    .dataframe tbody tr th:only-of-type {\n",
              "        vertical-align: middle;\n",
              "    }\n",
              "\n",
              "    .dataframe tbody tr th {\n",
              "        vertical-align: top;\n",
              "    }\n",
              "\n",
              "    .dataframe thead th {\n",
              "        text-align: right;\n",
              "    }\n",
              "</style>\n",
              "<table border=\"1\" class=\"dataframe\">\n",
              "  <thead>\n",
              "    <tr style=\"text-align: right;\">\n",
              "      <th></th>\n",
              "      <th>ID</th>\n",
              "      <th>Text</th>\n",
              "      <th>Clasification</th>\n",
              "      <th>Clasification_ID</th>\n",
              "    </tr>\n",
              "  </thead>\n",
              "  <tbody>\n",
              "    <tr>\n",
              "      <th>0</th>\n",
              "      <td>8001</td>\n",
              "      <td>The most common audits were about waste and re...</td>\n",
              "      <td>Other</td>\n",
              "      <td>0</td>\n",
              "    </tr>\n",
              "    <tr>\n",
              "      <th>2</th>\n",
              "      <td>8002</td>\n",
              "      <td>The company fabricates plastic chairs.</td>\n",
              "      <td>Other</td>\n",
              "      <td>0</td>\n",
              "    </tr>\n",
              "    <tr>\n",
              "      <th>4</th>\n",
              "      <td>8003</td>\n",
              "      <td>The school master teaches the lesson with a st...</td>\n",
              "      <td>Other</td>\n",
              "      <td>0</td>\n",
              "    </tr>\n",
              "    <tr>\n",
              "      <th>6</th>\n",
              "      <td>8004</td>\n",
              "      <td>The suspect dumped the dead body into a local ...</td>\n",
              "      <td>Other</td>\n",
              "      <td>0</td>\n",
              "    </tr>\n",
              "    <tr>\n",
              "      <th>8</th>\n",
              "      <td>8005</td>\n",
              "      <td>Avian influenza is an infectious disease of bi...</td>\n",
              "      <td>Cause-Effect</td>\n",
              "      <td>1</td>\n",
              "    </tr>\n",
              "  </tbody>\n",
              "</table>\n",
              "</div>\n",
              "      <button class=\"colab-df-convert\" onclick=\"convertToInteractive('df-25102ee9-63cd-432b-a6c3-0cb1ea417bd0')\"\n",
              "              title=\"Convert this dataframe to an interactive table.\"\n",
              "              style=\"display:none;\">\n",
              "        \n",
              "  <svg xmlns=\"http://www.w3.org/2000/svg\" height=\"24px\"viewBox=\"0 0 24 24\"\n",
              "       width=\"24px\">\n",
              "    <path d=\"M0 0h24v24H0V0z\" fill=\"none\"/>\n",
              "    <path d=\"M18.56 5.44l.94 2.06.94-2.06 2.06-.94-2.06-.94-.94-2.06-.94 2.06-2.06.94zm-11 1L8.5 8.5l.94-2.06 2.06-.94-2.06-.94L8.5 2.5l-.94 2.06-2.06.94zm10 10l.94 2.06.94-2.06 2.06-.94-2.06-.94-.94-2.06-.94 2.06-2.06.94z\"/><path d=\"M17.41 7.96l-1.37-1.37c-.4-.4-.92-.59-1.43-.59-.52 0-1.04.2-1.43.59L10.3 9.45l-7.72 7.72c-.78.78-.78 2.05 0 2.83L4 21.41c.39.39.9.59 1.41.59.51 0 1.02-.2 1.41-.59l7.78-7.78 2.81-2.81c.8-.78.8-2.07 0-2.86zM5.41 20L4 18.59l7.72-7.72 1.47 1.35L5.41 20z\"/>\n",
              "  </svg>\n",
              "      </button>\n",
              "      \n",
              "  <style>\n",
              "    .colab-df-container {\n",
              "      display:flex;\n",
              "      flex-wrap:wrap;\n",
              "      gap: 12px;\n",
              "    }\n",
              "\n",
              "    .colab-df-convert {\n",
              "      background-color: #E8F0FE;\n",
              "      border: none;\n",
              "      border-radius: 50%;\n",
              "      cursor: pointer;\n",
              "      display: none;\n",
              "      fill: #1967D2;\n",
              "      height: 32px;\n",
              "      padding: 0 0 0 0;\n",
              "      width: 32px;\n",
              "    }\n",
              "\n",
              "    .colab-df-convert:hover {\n",
              "      background-color: #E2EBFA;\n",
              "      box-shadow: 0px 1px 2px rgba(60, 64, 67, 0.3), 0px 1px 3px 1px rgba(60, 64, 67, 0.15);\n",
              "      fill: #174EA6;\n",
              "    }\n",
              "\n",
              "    [theme=dark] .colab-df-convert {\n",
              "      background-color: #3B4455;\n",
              "      fill: #D2E3FC;\n",
              "    }\n",
              "\n",
              "    [theme=dark] .colab-df-convert:hover {\n",
              "      background-color: #434B5C;\n",
              "      box-shadow: 0px 1px 3px 1px rgba(0, 0, 0, 0.15);\n",
              "      filter: drop-shadow(0px 1px 2px rgba(0, 0, 0, 0.3));\n",
              "      fill: #FFFFFF;\n",
              "    }\n",
              "  </style>\n",
              "\n",
              "      <script>\n",
              "        const buttonEl =\n",
              "          document.querySelector('#df-25102ee9-63cd-432b-a6c3-0cb1ea417bd0 button.colab-df-convert');\n",
              "        buttonEl.style.display =\n",
              "          google.colab.kernel.accessAllowed ? 'block' : 'none';\n",
              "\n",
              "        async function convertToInteractive(key) {\n",
              "          const element = document.querySelector('#df-25102ee9-63cd-432b-a6c3-0cb1ea417bd0');\n",
              "          const dataTable =\n",
              "            await google.colab.kernel.invokeFunction('convertToInteractive',\n",
              "                                                     [key], {});\n",
              "          if (!dataTable) return;\n",
              "\n",
              "          const docLinkHtml = 'Like what you see? Visit the ' +\n",
              "            '<a target=\"_blank\" href=https://colab.research.google.com/notebooks/data_table.ipynb>data table notebook</a>'\n",
              "            + ' to learn more about interactive tables.';\n",
              "          element.innerHTML = '';\n",
              "          dataTable['output_type'] = 'display_data';\n",
              "          await google.colab.output.renderOutput(dataTable, element);\n",
              "          const docLink = document.createElement('div');\n",
              "          docLink.innerHTML = docLinkHtml;\n",
              "          element.appendChild(docLink);\n",
              "        }\n",
              "      </script>\n",
              "    </div>\n",
              "  </div>\n",
              "  "
            ]
          },
          "metadata": {},
          "execution_count": 11
        }
      ],
      "source": [
        "df_test = prepare_file('semeval2010task8_test.txt','test')\n",
        "\n",
        "df_test.head(5)"
      ]
    },
    {
      "cell_type": "markdown",
      "metadata": {
        "id": "E2jg4ZDNfZo_"
      },
      "source": [
        "## Step 4: Training Models\n"
      ]
    },
    {
      "cell_type": "code",
      "execution_count": 12,
      "metadata": {
        "id": "jkhhb0s7fZpA",
        "scrolled": true
      },
      "outputs": [],
      "source": [
        "# use the TF-IDF vectorizer and create a pipeline that attaches it to a multinomial naive Bayes classifier\n",
        "from sklearn.feature_extraction.text import TfidfVectorizer    #Convert a collection of raw documents to a matrix of TF-IDF features\n",
        "from sklearn.naive_bayes import MultinomialNB                  #multinomial Naive Bayes classifier is suitable for classification with discrete features\n",
        "from sklearn.pipeline import make_pipeline                     #Construct a Pipeline from the given estimators\n",
        "\n",
        "#show data\n",
        "import seaborn as sns; sns.set()                               #data visualization library based on matplotlib\n",
        "import matplotlib.pyplot as plt                                #interactive plots \n",
        "from sklearn.metrics import confusion_matrix                   #Compute confusion matrix to evaluate the accuracy of a classification"
      ]
    },
    {
      "cell_type": "markdown",
      "metadata": {
        "id": "E4amNMuuiV_l"
      },
      "source": [
        "### Train model 5: Support Vector Machine Linear Kernel with Gridsearch (2/3-gram)"
      ]
    },
    {
      "cell_type": "markdown",
      "metadata": {
        "id": "-zst_CcnYr-b"
      },
      "source": [
        "####GridsearchCV\n",
        "\n",
        "Grid-search is used to find the optimal hyperparameters of a model which results in the most ‘accurate’ predictions.\n",
        "\n",
        "[Rohan Joseph, 2018](https://towardsdatascience.com/grid-search-for-model-tuning-3319b259367e)"
      ]
    },
    {
      "cell_type": "code",
      "execution_count": 22,
      "metadata": {
        "id": "LRn219r6iV_6"
      },
      "outputs": [],
      "source": [
        "from sklearn.pipeline import Pipeline\n",
        "from sklearn.feature_extraction.text import TfidfVectorizer\n",
        "from sklearn.svm import LinearSVC\n",
        "from sklearn.model_selection import GridSearchCV\n",
        "#Reference: https://gist.github.com/dspp779/5a9597e2d8a2518b80fb0ad191ea8463"
      ]
    },
    {
      "cell_type": "code",
      "execution_count": 23,
      "metadata": {
        "id": "MSjP9tnFiV_6"
      },
      "outputs": [],
      "source": [
        "#Build a vectorizer / classifier pipeline that filters out tokens that are too rare or too frequent\n",
        "pipeline = Pipeline([\n",
        "    ('vect', TfidfVectorizer()),\n",
        "    ('clf', LinearSVC()),\n",
        "])"
      ]
    },
    {
      "cell_type": "code",
      "execution_count": 24,
      "metadata": {
        "id": "qgthEfHdiV_6",
        "outputId": "6e2c5713-4ca9-4ca5-afba-2db6cfef0174",
        "colab": {
          "base_uri": "https://localhost:8080/"
        }
      },
      "outputs": [
        {
          "output_type": "execute_result",
          "data": {
            "text/plain": [
              "GridSearchCV(estimator=Pipeline(steps=[('vect', TfidfVectorizer()),\n",
              "                                       ('clf', LinearSVC())]),\n",
              "             n_jobs=-1, param_grid={'vect__ngram_range': [(1, 2), (1, 3)]})"
            ]
          },
          "metadata": {},
          "execution_count": 24
        }
      ],
      "source": [
        "#Build a grid search to find out whether 2-grams or 3-grams are more useful. \n",
        "#Fit the pipeline on the training set using grid search for the parameters\n",
        "parameters = {\n",
        "    'vect__ngram_range': [(1, 2), (1, 3)],\n",
        "}\n",
        "grid_search = GridSearchCV(pipeline, parameters, n_jobs=-1)\n",
        "grid_search.fit(train_data, train_target)"
      ]
    },
    {
      "cell_type": "code",
      "execution_count": 25,
      "metadata": {
        "id": "ZYJBDumGiV_7",
        "outputId": "086265ef-e8f2-4d41-fbcd-221a3123fc5c",
        "colab": {
          "base_uri": "https://localhost:8080/"
        }
      },
      "outputs": [
        {
          "output_type": "stream",
          "name": "stdout",
          "text": [
            "0 params - {'vect__ngram_range': (1, 2)}; mean - 0.95; std - 0.03\n",
            "1 params - {'vect__ngram_range': (1, 3)}; mean - 0.95; std - 0.03\n"
          ]
        }
      ],
      "source": [
        "#Print the mean and std for each candidate along with the parameter settings for all the candidates explored by grid search.\n",
        "n_candidates = len(grid_search.cv_results_['params'])\n",
        "for i in range(n_candidates):\n",
        "    print(i, 'params - %s; mean - %0.2f; std - %0.2f'\n",
        "             % (grid_search.cv_results_['params'][i],\n",
        "                grid_search.cv_results_['mean_test_score'][i],\n",
        "                grid_search.cv_results_['std_test_score'][i]))"
      ]
    },
    {
      "cell_type": "code",
      "execution_count": 26,
      "metadata": {
        "id": "Af0KnCfYiV_7"
      },
      "outputs": [],
      "source": [
        "#Predict the outcome on the testing set and store it in a variable named y_predicted\n",
        "y_predicted = grid_search.predict(test_data)"
      ]
    },
    {
      "cell_type": "markdown",
      "metadata": {
        "id": "Oj3llXW1wHPF"
      },
      "source": [
        "####Accuracy Rate"
      ]
    },
    {
      "cell_type": "code",
      "execution_count": 27,
      "metadata": {
        "id": "vcj5lHp4iV_8",
        "outputId": "ab3df0c8-ca47-4507-965f-a1875422fb90",
        "colab": {
          "base_uri": "https://localhost:8080/"
        }
      },
      "outputs": [
        {
          "output_type": "stream",
          "name": "stdout",
          "text": [
            "SVM Model Accuracy = 96.72432830327567 %\n"
          ]
        }
      ],
      "source": [
        "accuracy_for_test_keys = np.mean(y_predicted == test_target)\n",
        "print(\"SVM Model Accuracy = {} %\".format(accuracy_for_test_keys*100))"
      ]
    },
    {
      "cell_type": "markdown",
      "metadata": {
        "id": "KTd-xk7gwH0o"
      },
      "source": [
        "####F1-Score"
      ]
    },
    {
      "cell_type": "code",
      "execution_count": 28,
      "metadata": {
        "id": "f-VSGRrYiV_8",
        "outputId": "ad23fb4e-e58c-488e-c07e-76fbaa2b0e97",
        "colab": {
          "base_uri": "https://localhost:8080/"
        }
      },
      "outputs": [
        {
          "output_type": "stream",
          "name": "stdout",
          "text": [
            "              precision    recall  f1-score   support\n",
            "\n",
            "       Other       0.97      0.99      0.98      2389\n",
            "Cause-Effect       0.94      0.78      0.85       328\n",
            "\n",
            "    accuracy                           0.97      2717\n",
            "   macro avg       0.96      0.89      0.92      2717\n",
            "weighted avg       0.97      0.97      0.97      2717\n",
            "\n"
          ]
        }
      ],
      "source": [
        "from sklearn import metrics\n",
        "print(metrics.classification_report(test_target, y_predicted, target_names=keys))\n",
        "#Precision is the fraction of positive class predictions that actually belong to the positive class. \n",
        "#Recall is the fraction of positive class predictions made out of all positive examples in the dataset. \n",
        "#F1-score combines the precision and recall of a classifier into a single metric by taking their harmonic mean. \n",
        "#Higher F1 scores are generally better."
      ]
    },
    {
      "cell_type": "markdown",
      "source": [
        "###PULL OUT PREDICTED"
      ],
      "metadata": {
        "id": "tPlsPkl1gx4A"
      }
    },
    {
      "cell_type": "code",
      "execution_count": 30,
      "metadata": {
        "colab": {
          "base_uri": "https://localhost:8080/",
          "height": 363
        },
        "id": "OgHljR_fqSIv",
        "outputId": "fd38ae7e-2c6a-4914-f9a8-186669116f83"
      },
      "outputs": [
        {
          "output_type": "execute_result",
          "data": {
            "text/plain": [
              "       ID                                               Text Clasification  \\\n",
              "8    8005  Avian influenza is an infectious disease of bi...  Cause-Effect   \n",
              "60   8031  Of the hundreds of strains of avian influenza ...  Cause-Effect   \n",
              "66   8034  Essentially, the blisters that appear in the m...         Other   \n",
              "78   8040  Roundworms or ascarids are caused by an intest...         Other   \n",
              "114  8058  Traffic vibrations on the street outside had c...  Cause-Effect   \n",
              "144  8073  The slide, which was triggered by an avalanche...  Cause-Effect   \n",
              "164  8083  Muscle fatigue is the number one cause of arm ...  Cause-Effect   \n",
              "208  8105  It spilled more than 53000 gallons of crude oi...  Cause-Effect   \n",
              "212  8107  The diseases are caused by gene mutations on t...  Cause-Effect   \n",
              "214  8108  The pretexts offered were laughable, and the r...  Cause-Effect   \n",
              "\n",
              "     Clasification_ID  Predicted  \n",
              "8                   1          1  \n",
              "60                  1          1  \n",
              "66                  0          1  \n",
              "78                  0          1  \n",
              "114                 1          1  \n",
              "144                 1          1  \n",
              "164                 1          1  \n",
              "208                 1          1  \n",
              "212                 1          1  \n",
              "214                 1          1  "
            ],
            "text/html": [
              "\n",
              "  <div id=\"df-ed537c21-29d8-4412-94ea-68827e306b4c\">\n",
              "    <div class=\"colab-df-container\">\n",
              "      <div>\n",
              "<style scoped>\n",
              "    .dataframe tbody tr th:only-of-type {\n",
              "        vertical-align: middle;\n",
              "    }\n",
              "\n",
              "    .dataframe tbody tr th {\n",
              "        vertical-align: top;\n",
              "    }\n",
              "\n",
              "    .dataframe thead th {\n",
              "        text-align: right;\n",
              "    }\n",
              "</style>\n",
              "<table border=\"1\" class=\"dataframe\">\n",
              "  <thead>\n",
              "    <tr style=\"text-align: right;\">\n",
              "      <th></th>\n",
              "      <th>ID</th>\n",
              "      <th>Text</th>\n",
              "      <th>Clasification</th>\n",
              "      <th>Clasification_ID</th>\n",
              "      <th>Predicted</th>\n",
              "    </tr>\n",
              "  </thead>\n",
              "  <tbody>\n",
              "    <tr>\n",
              "      <th>8</th>\n",
              "      <td>8005</td>\n",
              "      <td>Avian influenza is an infectious disease of bi...</td>\n",
              "      <td>Cause-Effect</td>\n",
              "      <td>1</td>\n",
              "      <td>1</td>\n",
              "    </tr>\n",
              "    <tr>\n",
              "      <th>60</th>\n",
              "      <td>8031</td>\n",
              "      <td>Of the hundreds of strains of avian influenza ...</td>\n",
              "      <td>Cause-Effect</td>\n",
              "      <td>1</td>\n",
              "      <td>1</td>\n",
              "    </tr>\n",
              "    <tr>\n",
              "      <th>66</th>\n",
              "      <td>8034</td>\n",
              "      <td>Essentially, the blisters that appear in the m...</td>\n",
              "      <td>Other</td>\n",
              "      <td>0</td>\n",
              "      <td>1</td>\n",
              "    </tr>\n",
              "    <tr>\n",
              "      <th>78</th>\n",
              "      <td>8040</td>\n",
              "      <td>Roundworms or ascarids are caused by an intest...</td>\n",
              "      <td>Other</td>\n",
              "      <td>0</td>\n",
              "      <td>1</td>\n",
              "    </tr>\n",
              "    <tr>\n",
              "      <th>114</th>\n",
              "      <td>8058</td>\n",
              "      <td>Traffic vibrations on the street outside had c...</td>\n",
              "      <td>Cause-Effect</td>\n",
              "      <td>1</td>\n",
              "      <td>1</td>\n",
              "    </tr>\n",
              "    <tr>\n",
              "      <th>144</th>\n",
              "      <td>8073</td>\n",
              "      <td>The slide, which was triggered by an avalanche...</td>\n",
              "      <td>Cause-Effect</td>\n",
              "      <td>1</td>\n",
              "      <td>1</td>\n",
              "    </tr>\n",
              "    <tr>\n",
              "      <th>164</th>\n",
              "      <td>8083</td>\n",
              "      <td>Muscle fatigue is the number one cause of arm ...</td>\n",
              "      <td>Cause-Effect</td>\n",
              "      <td>1</td>\n",
              "      <td>1</td>\n",
              "    </tr>\n",
              "    <tr>\n",
              "      <th>208</th>\n",
              "      <td>8105</td>\n",
              "      <td>It spilled more than 53000 gallons of crude oi...</td>\n",
              "      <td>Cause-Effect</td>\n",
              "      <td>1</td>\n",
              "      <td>1</td>\n",
              "    </tr>\n",
              "    <tr>\n",
              "      <th>212</th>\n",
              "      <td>8107</td>\n",
              "      <td>The diseases are caused by gene mutations on t...</td>\n",
              "      <td>Cause-Effect</td>\n",
              "      <td>1</td>\n",
              "      <td>1</td>\n",
              "    </tr>\n",
              "    <tr>\n",
              "      <th>214</th>\n",
              "      <td>8108</td>\n",
              "      <td>The pretexts offered were laughable, and the r...</td>\n",
              "      <td>Cause-Effect</td>\n",
              "      <td>1</td>\n",
              "      <td>1</td>\n",
              "    </tr>\n",
              "  </tbody>\n",
              "</table>\n",
              "</div>\n",
              "      <button class=\"colab-df-convert\" onclick=\"convertToInteractive('df-ed537c21-29d8-4412-94ea-68827e306b4c')\"\n",
              "              title=\"Convert this dataframe to an interactive table.\"\n",
              "              style=\"display:none;\">\n",
              "        \n",
              "  <svg xmlns=\"http://www.w3.org/2000/svg\" height=\"24px\"viewBox=\"0 0 24 24\"\n",
              "       width=\"24px\">\n",
              "    <path d=\"M0 0h24v24H0V0z\" fill=\"none\"/>\n",
              "    <path d=\"M18.56 5.44l.94 2.06.94-2.06 2.06-.94-2.06-.94-.94-2.06-.94 2.06-2.06.94zm-11 1L8.5 8.5l.94-2.06 2.06-.94-2.06-.94L8.5 2.5l-.94 2.06-2.06.94zm10 10l.94 2.06.94-2.06 2.06-.94-2.06-.94-.94-2.06-.94 2.06-2.06.94z\"/><path d=\"M17.41 7.96l-1.37-1.37c-.4-.4-.92-.59-1.43-.59-.52 0-1.04.2-1.43.59L10.3 9.45l-7.72 7.72c-.78.78-.78 2.05 0 2.83L4 21.41c.39.39.9.59 1.41.59.51 0 1.02-.2 1.41-.59l7.78-7.78 2.81-2.81c.8-.78.8-2.07 0-2.86zM5.41 20L4 18.59l7.72-7.72 1.47 1.35L5.41 20z\"/>\n",
              "  </svg>\n",
              "      </button>\n",
              "      \n",
              "  <style>\n",
              "    .colab-df-container {\n",
              "      display:flex;\n",
              "      flex-wrap:wrap;\n",
              "      gap: 12px;\n",
              "    }\n",
              "\n",
              "    .colab-df-convert {\n",
              "      background-color: #E8F0FE;\n",
              "      border: none;\n",
              "      border-radius: 50%;\n",
              "      cursor: pointer;\n",
              "      display: none;\n",
              "      fill: #1967D2;\n",
              "      height: 32px;\n",
              "      padding: 0 0 0 0;\n",
              "      width: 32px;\n",
              "    }\n",
              "\n",
              "    .colab-df-convert:hover {\n",
              "      background-color: #E2EBFA;\n",
              "      box-shadow: 0px 1px 2px rgba(60, 64, 67, 0.3), 0px 1px 3px 1px rgba(60, 64, 67, 0.15);\n",
              "      fill: #174EA6;\n",
              "    }\n",
              "\n",
              "    [theme=dark] .colab-df-convert {\n",
              "      background-color: #3B4455;\n",
              "      fill: #D2E3FC;\n",
              "    }\n",
              "\n",
              "    [theme=dark] .colab-df-convert:hover {\n",
              "      background-color: #434B5C;\n",
              "      box-shadow: 0px 1px 3px 1px rgba(0, 0, 0, 0.15);\n",
              "      filter: drop-shadow(0px 1px 2px rgba(0, 0, 0, 0.3));\n",
              "      fill: #FFFFFF;\n",
              "    }\n",
              "  </style>\n",
              "\n",
              "      <script>\n",
              "        const buttonEl =\n",
              "          document.querySelector('#df-ed537c21-29d8-4412-94ea-68827e306b4c button.colab-df-convert');\n",
              "        buttonEl.style.display =\n",
              "          google.colab.kernel.accessAllowed ? 'block' : 'none';\n",
              "\n",
              "        async function convertToInteractive(key) {\n",
              "          const element = document.querySelector('#df-ed537c21-29d8-4412-94ea-68827e306b4c');\n",
              "          const dataTable =\n",
              "            await google.colab.kernel.invokeFunction('convertToInteractive',\n",
              "                                                     [key], {});\n",
              "          if (!dataTable) return;\n",
              "\n",
              "          const docLinkHtml = 'Like what you see? Visit the ' +\n",
              "            '<a target=\"_blank\" href=https://colab.research.google.com/notebooks/data_table.ipynb>data table notebook</a>'\n",
              "            + ' to learn more about interactive tables.';\n",
              "          element.innerHTML = '';\n",
              "          dataTable['output_type'] = 'display_data';\n",
              "          await google.colab.output.renderOutput(dataTable, element);\n",
              "          const docLink = document.createElement('div');\n",
              "          docLink.innerHTML = docLinkHtml;\n",
              "          element.appendChild(docLink);\n",
              "        }\n",
              "      </script>\n",
              "    </div>\n",
              "  </div>\n",
              "  "
            ]
          },
          "metadata": {},
          "execution_count": 30
        }
      ],
      "source": [
        "df_test['Predicted'] = y_predicted\n",
        "#BEATRICE Return Predicted Cause-Effect Statements \n",
        "df_ceff=df_test[(df_test.Predicted.eq(1))]\n",
        "df_ceff.head(10)\n"
      ]
    }
  ],
  "metadata": {
    "colab": {
      "collapsed_sections": [
        "bqkeBYJafZo6",
        "sgNfoWpv44G8",
        "KiqlY69048dC",
        "FAvhVLsT5Ev8",
        "Bq4oXwAZfZpA",
        "y8OCETSEZu4e",
        "W5Ef53_fZ8qe",
        "dMhIuewqY8Bv",
        "n3o9sqNpZ4-G",
        "C2gYOBivfZpC",
        "l91sJKZ-jYKo",
        "Y86dyq7paGV_",
        "7C1GT25_jw5X",
        "pn8a68Scfli8",
        "9P7drVwGz8Zk",
        "3MxacIdhYjv6",
        "4G4j7K3tvorF",
        "UCjgauY2vx0t",
        "gLxTzF9Dv2lX",
        "Zg_Kqaendhqc",
        "KiHOzjvNxAlk",
        "d4BPaCBMv_X9",
        "_7S6J4EvwAQR",
        "39H7pcpgwCaj",
        "E4amNMuuiV_l",
        "-zst_CcnYr-b",
        "Oj3llXW1wHPF",
        "KTd-xk7gwH0o",
        "r_XBRAquwLcV"
      ],
      "provenance": [],
      "toc_visible": true,
      "include_colab_link": true
    },
    "kernelspec": {
      "display_name": "Python 3.10.6 64-bit",
      "language": "python",
      "name": "python3"
    },
    "language_info": {
      "codemirror_mode": {
        "name": "ipython",
        "version": 3
      },
      "file_extension": ".py",
      "mimetype": "text/x-python",
      "name": "python",
      "nbconvert_exporter": "python",
      "pygments_lexer": "ipython3",
      "version": "3.10.6"
    },
    "vscode": {
      "interpreter": {
        "hash": "c058de923858d6e5ced1e41dc5c877b1e9a3c6644c3607d8bdd7ab5ce0ec6d93"
      }
    }
  },
  "nbformat": 4,
  "nbformat_minor": 0
}